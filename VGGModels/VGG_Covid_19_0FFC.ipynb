{
  "metadata": {
    "kernelspec": {
      "language": "python",
      "display_name": "Python 3",
      "name": "python3"
    },
    "language_info": {
      "name": "python",
      "version": "3.7.12",
      "mimetype": "text/x-python",
      "codemirror_mode": {
        "name": "ipython",
        "version": 3
      },
      "pygments_lexer": "ipython3",
      "nbconvert_exporter": "python",
      "file_extension": ".py"
    },
    "colab": {
      "name": "VGG Covid-19 0FFC.ipynb",
      "provenance": [],
      "collapsed_sections": []
    }
  },
  "nbformat_minor": 0,
  "nbformat": 4,
  "cells": [
    {
      "cell_type": "code",
      "source": [
        "%reload_ext autoreload\n",
        "%autoreload 2\n",
        "%matplotlib inline"
      ],
      "metadata": {
        "id": "Ggtu0DDwMzjB",
        "execution": {
          "iopub.status.busy": "2022-03-17T01:44:20.575013Z",
          "iopub.execute_input": "2022-03-17T01:44:20.575353Z",
          "iopub.status.idle": "2022-03-17T01:44:20.630991Z",
          "shell.execute_reply.started": "2022-03-17T01:44:20.57525Z",
          "shell.execute_reply": "2022-03-17T01:44:20.630362Z"
        },
        "trusted": true
      },
      "execution_count": null,
      "outputs": []
    },
    {
      "cell_type": "code",
      "source": [
        "!pip install fastai==\"1.0.61\"\n",
        "# !pip install torchsummary"
      ],
      "metadata": {
        "execution": {
          "iopub.status.busy": "2022-03-18T02:27:10.832874Z",
          "iopub.execute_input": "2022-03-18T02:27:10.833480Z",
          "iopub.status.idle": "2022-03-18T02:27:31.096342Z",
          "shell.execute_reply.started": "2022-03-18T02:27:10.833445Z",
          "shell.execute_reply": "2022-03-18T02:27:31.095566Z"
        },
        "trusted": true,
        "id": "vI5ZEuI-zdCS",
        "outputId": "9e80fbe8-5f44-4d9a-aacb-179becea5c09"
      },
      "execution_count": null,
      "outputs": [
        {
          "name": "stdout",
          "text": "Collecting fastai==1.0.61\n  Downloading fastai-1.0.61-py3-none-any.whl (239 kB)\n     |████████████████████████████████| 239 kB 4.0 MB/s            \n\u001b[?25hRequirement already satisfied: numexpr in /opt/conda/lib/python3.7/site-packages (from fastai==1.0.61) (2.8.1)\nRequirement already satisfied: pyyaml in /opt/conda/lib/python3.7/site-packages (from fastai==1.0.61) (6.0)\nRequirement already satisfied: bottleneck in /opt/conda/lib/python3.7/site-packages (from fastai==1.0.61) (1.3.2)\nRequirement already satisfied: scipy in /opt/conda/lib/python3.7/site-packages (from fastai==1.0.61) (1.7.3)\nRequirement already satisfied: Pillow in /opt/conda/lib/python3.7/site-packages (from fastai==1.0.61) (8.2.0)\nRequirement already satisfied: numpy>=1.15 in /opt/conda/lib/python3.7/site-packages (from fastai==1.0.61) (1.20.3)\nRequirement already satisfied: torch>=1.0.0 in /opt/conda/lib/python3.7/site-packages (from fastai==1.0.61) (1.9.1)\nRequirement already satisfied: spacy>=2.0.18 in /opt/conda/lib/python3.7/site-packages (from fastai==1.0.61) (3.2.2)\nRequirement already satisfied: torchvision in /opt/conda/lib/python3.7/site-packages (from fastai==1.0.61) (0.10.1)\nRequirement already satisfied: requests in /opt/conda/lib/python3.7/site-packages (from fastai==1.0.61) (2.26.0)\nRequirement already satisfied: pandas in /opt/conda/lib/python3.7/site-packages (from fastai==1.0.61) (1.3.5)\nRequirement already satisfied: packaging in /opt/conda/lib/python3.7/site-packages (from fastai==1.0.61) (21.3)\nRequirement already satisfied: beautifulsoup4 in /opt/conda/lib/python3.7/site-packages (from fastai==1.0.61) (4.10.0)\nRequirement already satisfied: matplotlib in /opt/conda/lib/python3.7/site-packages (from fastai==1.0.61) (3.5.1)\nRequirement already satisfied: fastprogress>=0.2.1 in /opt/conda/lib/python3.7/site-packages (from fastai==1.0.61) (1.0.2)\nCollecting nvidia-ml-py3\n  Downloading nvidia-ml-py3-7.352.0.tar.gz (19 kB)\n  Preparing metadata (setup.py) ... \u001b[?25ldone\n\u001b[?25hRequirement already satisfied: pathy>=0.3.5 in /opt/conda/lib/python3.7/site-packages (from spacy>=2.0.18->fastai==1.0.61) (0.6.1)\nRequirement already satisfied: spacy-loggers<2.0.0,>=1.0.0 in /opt/conda/lib/python3.7/site-packages (from spacy>=2.0.18->fastai==1.0.61) (1.0.1)\nRequirement already satisfied: catalogue<2.1.0,>=2.0.6 in /opt/conda/lib/python3.7/site-packages (from spacy>=2.0.18->fastai==1.0.61) (2.0.6)\nRequirement already satisfied: typer<0.5.0,>=0.3.0 in /opt/conda/lib/python3.7/site-packages (from spacy>=2.0.18->fastai==1.0.61) (0.4.0)\nRequirement already satisfied: jinja2 in /opt/conda/lib/python3.7/site-packages (from spacy>=2.0.18->fastai==1.0.61) (3.0.3)\nRequirement already satisfied: setuptools in /opt/conda/lib/python3.7/site-packages (from spacy>=2.0.18->fastai==1.0.61) (59.5.0)\nRequirement already satisfied: srsly<3.0.0,>=2.4.1 in /opt/conda/lib/python3.7/site-packages (from spacy>=2.0.18->fastai==1.0.61) (2.4.2)\nCollecting typing-extensions<4.0.0.0,>=3.7.4\n  Downloading typing_extensions-3.10.0.2-py3-none-any.whl (26 kB)\nRequirement already satisfied: murmurhash<1.1.0,>=0.28.0 in /opt/conda/lib/python3.7/site-packages (from spacy>=2.0.18->fastai==1.0.61) (1.0.6)\nRequirement already satisfied: preshed<3.1.0,>=3.0.2 in /opt/conda/lib/python3.7/site-packages (from spacy>=2.0.18->fastai==1.0.61) (3.0.6)\nRequirement already satisfied: cymem<2.1.0,>=2.0.2 in /opt/conda/lib/python3.7/site-packages (from spacy>=2.0.18->fastai==1.0.61) (2.0.6)\nRequirement already satisfied: blis<0.8.0,>=0.4.0 in /opt/conda/lib/python3.7/site-packages (from spacy>=2.0.18->fastai==1.0.61) (0.7.5)\nRequirement already satisfied: wasabi<1.1.0,>=0.8.1 in /opt/conda/lib/python3.7/site-packages (from spacy>=2.0.18->fastai==1.0.61) (0.9.0)\nRequirement already satisfied: thinc<8.1.0,>=8.0.12 in /opt/conda/lib/python3.7/site-packages (from spacy>=2.0.18->fastai==1.0.61) (8.0.13)\nRequirement already satisfied: spacy-legacy<3.1.0,>=3.0.8 in /opt/conda/lib/python3.7/site-packages (from spacy>=2.0.18->fastai==1.0.61) (3.0.9)\nRequirement already satisfied: tqdm<5.0.0,>=4.38.0 in /opt/conda/lib/python3.7/site-packages (from spacy>=2.0.18->fastai==1.0.61) (4.62.3)\nRequirement already satisfied: langcodes<4.0.0,>=3.2.0 in /opt/conda/lib/python3.7/site-packages (from spacy>=2.0.18->fastai==1.0.61) (3.3.0)\nRequirement already satisfied: pydantic!=1.8,!=1.8.1,<1.9.0,>=1.7.4 in /opt/conda/lib/python3.7/site-packages (from spacy>=2.0.18->fastai==1.0.61) (1.8.2)\nRequirement already satisfied: pyparsing!=3.0.5,>=2.0.2 in /opt/conda/lib/python3.7/site-packages (from packaging->fastai==1.0.61) (3.0.6)\nRequirement already satisfied: urllib3<1.27,>=1.21.1 in /opt/conda/lib/python3.7/site-packages (from requests->fastai==1.0.61) (1.26.7)\nRequirement already satisfied: idna<4,>=2.5 in /opt/conda/lib/python3.7/site-packages (from requests->fastai==1.0.61) (3.1)\nRequirement already satisfied: charset-normalizer~=2.0.0 in /opt/conda/lib/python3.7/site-packages (from requests->fastai==1.0.61) (2.0.9)\nRequirement already satisfied: certifi>=2017.4.17 in /opt/conda/lib/python3.7/site-packages (from requests->fastai==1.0.61) (2021.10.8)\nRequirement already satisfied: soupsieve>1.2 in /opt/conda/lib/python3.7/site-packages (from beautifulsoup4->fastai==1.0.61) (2.3.1)\nRequirement already satisfied: python-dateutil>=2.7 in /opt/conda/lib/python3.7/site-packages (from matplotlib->fastai==1.0.61) (2.8.2)\nRequirement already satisfied: fonttools>=4.22.0 in /opt/conda/lib/python3.7/site-packages (from matplotlib->fastai==1.0.61) (4.28.4)\nRequirement already satisfied: cycler>=0.10 in /opt/conda/lib/python3.7/site-packages (from matplotlib->fastai==1.0.61) (0.11.0)\nRequirement already satisfied: kiwisolver>=1.0.1 in /opt/conda/lib/python3.7/site-packages (from matplotlib->fastai==1.0.61) (1.3.2)\nRequirement already satisfied: pytz>=2017.3 in /opt/conda/lib/python3.7/site-packages (from pandas->fastai==1.0.61) (2021.3)\nRequirement already satisfied: zipp>=0.5 in /opt/conda/lib/python3.7/site-packages (from catalogue<2.1.0,>=2.0.6->spacy>=2.0.18->fastai==1.0.61) (3.6.0)\nRequirement already satisfied: smart-open<6.0.0,>=5.0.0 in /opt/conda/lib/python3.7/site-packages (from pathy>=0.3.5->spacy>=2.0.18->fastai==1.0.61) (5.2.1)\nRequirement already satisfied: six>=1.5 in /opt/conda/lib/python3.7/site-packages (from python-dateutil>=2.7->matplotlib->fastai==1.0.61) (1.16.0)\nRequirement already satisfied: click<9.0.0,>=7.1.1 in /opt/conda/lib/python3.7/site-packages (from typer<0.5.0,>=0.3.0->spacy>=2.0.18->fastai==1.0.61) (8.0.3)\nRequirement already satisfied: MarkupSafe>=2.0 in /opt/conda/lib/python3.7/site-packages (from jinja2->spacy>=2.0.18->fastai==1.0.61) (2.1.0)\nRequirement already satisfied: importlib-metadata in /opt/conda/lib/python3.7/site-packages (from click<9.0.0,>=7.1.1->typer<0.5.0,>=0.3.0->spacy>=2.0.18->fastai==1.0.61) (4.11.2)\nBuilding wheels for collected packages: nvidia-ml-py3\n  Building wheel for nvidia-ml-py3 (setup.py) ... \u001b[?25ldone\n\u001b[?25h  Created wheel for nvidia-ml-py3: filename=nvidia_ml_py3-7.352.0-py3-none-any.whl size=19191 sha256=4b45df48b3f378928c801fb0eb4b8f210dbe2e368588a541008160b2d9875714\n  Stored in directory: /root/.cache/pip/wheels/df/99/da/c34f202dc8fd1dffd35e0ecf1a7d7f8374ca05fbcbaf974b83\nSuccessfully built nvidia-ml-py3\nInstalling collected packages: typing-extensions, nvidia-ml-py3, fastai\n  Attempting uninstall: typing-extensions\n    Found existing installation: typing-extensions 4.1.1\n    Uninstalling typing-extensions-4.1.1:\n      Successfully uninstalled typing-extensions-4.1.1\n  Attempting uninstall: fastai\n    Found existing installation: fastai 2.5.3\n    Uninstalling fastai-2.5.3:\n      Successfully uninstalled fastai-2.5.3\n\u001b[31mERROR: pip's dependency resolver does not currently take into account all the packages that are installed. This behaviour is the source of the following dependency conflicts.\ntensorflow-io 0.21.0 requires tensorflow-io-gcs-filesystem==0.21.0, which is not installed.\nexplainable-ai-sdk 1.3.2 requires xai-image-widget, which is not installed.\ntensorflow 2.6.2 requires numpy~=1.19.2, but you have numpy 1.20.3 which is incompatible.\ntensorflow 2.6.2 requires six~=1.15.0, but you have six 1.16.0 which is incompatible.\ntensorflow 2.6.2 requires typing-extensions~=3.7.4, but you have typing-extensions 3.10.0.2 which is incompatible.\ntensorflow 2.6.2 requires wrapt~=1.12.1, but you have wrapt 1.13.3 which is incompatible.\ntensorflow-transform 1.5.0 requires absl-py<0.13,>=0.9, but you have absl-py 0.15.0 which is incompatible.\ntensorflow-transform 1.5.0 requires numpy<1.20,>=1.16, but you have numpy 1.20.3 which is incompatible.\ntensorflow-transform 1.5.0 requires pyarrow<6,>=1, but you have pyarrow 6.0.1 which is incompatible.\ntensorflow-transform 1.5.0 requires tensorflow!=2.0.*,!=2.1.*,!=2.2.*,!=2.3.*,!=2.4.*,!=2.5.*,!=2.6.*,<2.8,>=1.15.2, but you have tensorflow 2.6.2 which is incompatible.\ntensorflow-serving-api 2.7.0 requires tensorflow<3,>=2.7.0, but you have tensorflow 2.6.2 which is incompatible.\nflake8 4.0.1 requires importlib-metadata<4.3; python_version < \"3.8\", but you have importlib-metadata 4.11.2 which is incompatible.\napache-beam 2.34.0 requires dill<0.3.2,>=0.3.1.1, but you have dill 0.3.4 which is incompatible.\napache-beam 2.34.0 requires httplib2<0.20.0,>=0.8, but you have httplib2 0.20.2 which is incompatible.\napache-beam 2.34.0 requires pyarrow<6.0.0,>=0.15.1, but you have pyarrow 6.0.1 which is incompatible.\naioitertools 0.10.0 requires typing_extensions>=4.0; python_version < \"3.10\", but you have typing-extensions 3.10.0.2 which is incompatible.\naiobotocore 2.1.1 requires botocore<1.23.25,>=1.23.24, but you have botocore 1.24.8 which is incompatible.\u001b[0m\nSuccessfully installed fastai-1.0.61 nvidia-ml-py3-7.352.0 typing-extensions-3.10.0.2\n\u001b[33mWARNING: Running pip as the 'root' user can result in broken permissions and conflicting behaviour with the system package manager. It is recommended to use a virtual environment instead: https://pip.pypa.io/warnings/venv\u001b[0m\n",
          "output_type": "stream"
        }
      ]
    },
    {
      "cell_type": "code",
      "source": [
        "import torch.nn as nn\n",
        "import torch.nn.functional as F\n",
        "import torch\n",
        "# from google.colab import drive\n",
        "# drive.mount('/content/drive')\n",
        "from glob import glob\n",
        "import torchvision\n",
        "import torchvision.transforms as transforms\n",
        "import torchvision.datasets as datasets\n",
        "# from torchsummary import summary\n",
        "from fastai.metrics import accuracy\n",
        "from fastai.vision import *\n",
        "import numpy as np\n",
        "!pip install fft-conv-pytorch\n",
        "from fft_conv_pytorch import fft_conv, FFTConv2d"
      ],
      "metadata": {
        "id": "zMLxNfecNGPJ",
        "outputId": "f169454d-8607-4e91-ee31-1b8dd2efd20e",
        "execution": {
          "iopub.status.busy": "2022-03-18T02:28:11.587321Z",
          "iopub.execute_input": "2022-03-18T02:28:11.588150Z",
          "iopub.status.idle": "2022-03-18T02:28:20.137531Z",
          "shell.execute_reply.started": "2022-03-18T02:28:11.588104Z",
          "shell.execute_reply": "2022-03-18T02:28:20.136646Z"
        },
        "trusted": true
      },
      "execution_count": null,
      "outputs": [
        {
          "name": "stdout",
          "text": "Collecting fft-conv-pytorch\n  Downloading fft_conv_pytorch-1.1.3-py3-none-any.whl (6.6 kB)\nRequirement already satisfied: torch>=1.8 in /opt/conda/lib/python3.7/site-packages (from fft-conv-pytorch) (1.9.1)\nRequirement already satisfied: numpy in /opt/conda/lib/python3.7/site-packages (from fft-conv-pytorch) (1.20.3)\nRequirement already satisfied: typing-extensions in /opt/conda/lib/python3.7/site-packages (from torch>=1.8->fft-conv-pytorch) (3.10.0.2)\nInstalling collected packages: fft-conv-pytorch\nSuccessfully installed fft-conv-pytorch-1.1.3\n\u001b[33mWARNING: Running pip as the 'root' user can result in broken permissions and conflicting behaviour with the system package manager. It is recommended to use a virtual environment instead: https://pip.pypa.io/warnings/venv\u001b[0m\n",
          "output_type": "stream"
        }
      ]
    },
    {
      "cell_type": "code",
      "source": [
        "import warnings\n",
        "warnings.filterwarnings('ignore')"
      ],
      "metadata": {
        "id": "SUrHkMi6NV2u",
        "execution": {
          "iopub.status.busy": "2022-03-18T02:28:27.012528Z",
          "iopub.execute_input": "2022-03-18T02:28:27.012798Z",
          "iopub.status.idle": "2022-03-18T02:28:27.017729Z",
          "shell.execute_reply.started": "2022-03-18T02:28:27.012762Z",
          "shell.execute_reply": "2022-03-18T02:28:27.016955Z"
        },
        "trusted": true
      },
      "execution_count": null,
      "outputs": []
    },
    {
      "cell_type": "code",
      "source": [
        "# from fastai.vision.data import normalize\n",
        "path = \"../input/covid19grayscaleds/covid-19_dataset_grayscale\"\n",
        "np.random.seed(41)\n",
        "defaults = SimpleNamespace(cmap='L', return_fig=False, silent=False)\n",
        "data = ImageDataBunch.from_folder(path, train=\"Train\", valid =\"Valid\", valid_pct=0.2,ds_tfms=get_transforms(), size=(256,256), bs=16, num_workers=4)\n",
        "for itemList in [\"train_dl\", \"valid_dl\", \"fix_dl\", \"test_dl\"]:\n",
        "    itemList = getattr(data, itemList)\n",
        "    if itemList: itemList.x.convert_mode = \"L\""
      ],
      "metadata": {
        "id": "CQ3FJgcwNYTk",
        "execution": {
          "iopub.status.busy": "2022-03-18T02:28:30.168432Z",
          "iopub.execute_input": "2022-03-18T02:28:30.169131Z",
          "iopub.status.idle": "2022-03-18T02:28:31.900487Z",
          "shell.execute_reply.started": "2022-03-18T02:28:30.169092Z",
          "shell.execute_reply": "2022-03-18T02:28:31.899532Z"
        },
        "trusted": true
      },
      "execution_count": null,
      "outputs": []
    },
    {
      "cell_type": "code",
      "source": [
        "print (data.one_batch()[0].shape)\n",
        "print (data.classes, data.c, len(data.train_ds), len(data.valid_ds))\n",
        "print (data.train_ds.classes)\n",
        "print (data.valid_ds.classes)"
      ],
      "metadata": {
        "id": "FM7QVE2MNwFU",
        "outputId": "9e9f5857-45e8-45b6-bcf5-ee579b78d29b",
        "execution": {
          "iopub.status.busy": "2022-03-18T02:28:36.819618Z",
          "iopub.execute_input": "2022-03-18T02:28:36.819978Z",
          "iopub.status.idle": "2022-03-18T02:28:40.359228Z",
          "shell.execute_reply.started": "2022-03-18T02:28:36.819943Z",
          "shell.execute_reply": "2022-03-18T02:28:40.358317Z"
        },
        "trusted": true
      },
      "execution_count": null,
      "outputs": [
        {
          "name": "stdout",
          "text": "torch.Size([16, 1, 256, 256])\n['covid-19', 'no_findings', 'pneumonia'] 3 900 225\n['covid-19', 'no_findings', 'pneumonia']\n['covid-19', 'no_findings', 'pneumonia']\n",
          "output_type": "stream"
        }
      ]
    },
    {
      "cell_type": "markdown",
      "source": [
        "With FFT Conv Layers"
      ],
      "metadata": {
        "id": "p1L7CtuQlm2r"
      }
    },
    {
      "cell_type": "code",
      "source": [
        "def fft_conv_block(ni, nf, size=3, stride=1):\n",
        "    for_pad = lambda s: s if s > 2 else 3\n",
        "    return nn.Sequential(\n",
        "        FFTConv2d(ni, nf, kernel_size=size, stride=stride,\n",
        "                  padding=(for_pad(size) - 1)//2, bias=False), \n",
        "        nn.BatchNorm2d(nf),\n",
        "        nn.LeakyReLU(negative_slope=0.1, inplace=True)  \n",
        "    )\n",
        "\n",
        "def conv_block(ni, nf, size=3, stride=1):\n",
        "    for_pad = lambda s: s if s > 2 else 3\n",
        "    return nn.Sequential(\n",
        "        nn.Conv2d(ni, nf, kernel_size=size, stride=stride,\n",
        "                  padding=(for_pad(size) - 1)//2, bias=False), \n",
        "        nn.BatchNorm2d(nf),\n",
        "        nn.LeakyReLU(negative_slope=0.1, inplace=True)  \n",
        "    )\n",
        "\n",
        "def triple_conv(ni, nf):\n",
        "    return nn.Sequential(\n",
        "        conv_block(ni, nf),\n",
        "        conv_block(nf, ni, size=1),  \n",
        "        conv_block(ni, nf)\n",
        "    )\n",
        "def fft_triple_conv(ni, nf,size):\n",
        "    return nn.Sequential(\n",
        "        fft_conv_block(ni, nf,size),\n",
        "        conv_block(nf, ni, size=1),  \n",
        "        fft_conv_block(ni, nf, size)\n",
        "    )\n",
        "def maxpooling():\n",
        "    return nn.MaxPool2d(2, stride=2)"
      ],
      "metadata": {
        "id": "ZBdMXQomN0Cu",
        "execution": {
          "iopub.status.busy": "2022-03-17T19:28:08.005947Z",
          "iopub.execute_input": "2022-03-17T19:28:08.006204Z",
          "iopub.status.idle": "2022-03-17T19:28:08.016291Z",
          "shell.execute_reply.started": "2022-03-17T19:28:08.006176Z",
          "shell.execute_reply": "2022-03-17T19:28:08.015290Z"
        },
        "trusted": true
      },
      "execution_count": null,
      "outputs": []
    },
    {
      "cell_type": "code",
      "source": [
        "vgg_model = nn.Sequential(\n",
        "    \n",
        "    nn.Conv2d(in_channels=1, out_channels=16, kernel_size=3, padding=1),\n",
        "    nn.ReLU(inplace=True),\n",
        "    nn.Conv2d(in_channels=16, out_channels=16, kernel_size=3, padding=1),\n",
        "    nn.ReLU(inplace=True),\n",
        "    nn.MaxPool2d(kernel_size=2, stride=2), \n",
        "\n",
        "    nn.Conv2d(in_channels=16, out_channels=32, kernel_size=3, padding=1),\n",
        "    nn.ReLU(inplace=True),\n",
        "    nn.Conv2d(in_channels=32, out_channels=32, kernel_size=3, padding=1),\n",
        "    nn.ReLU(inplace=True),\n",
        "\n",
        "    nn.MaxPool2d(kernel_size=2, stride=2), \n",
        "\n",
        "    nn.Conv2d(in_channels=32, out_channels=64, kernel_size=3, padding=1),\n",
        "    nn.ReLU(inplace=True),\n",
        "    nn.Conv2d(in_channels=64, out_channels=64, kernel_size=3, padding=1),\n",
        "    nn.ReLU(inplace=True),\n",
        "    nn.Conv2d(in_channels=64, out_channels=128, kernel_size=3, padding=1),\n",
        "    nn.ReLU(inplace=True),\n",
        "    nn.MaxPool2d(kernel_size=2, stride=2), \n",
        "    \n",
        "    # nn.Conv2d(in_channels=32, out_channels=64, kernel_size=3, padding=1),\n",
        "    # nn.ReLU(inplace=True),\n",
        "    # nn.Conv2d(in_channels=64, out_channels=64, kernel_size=3, padding=1),\n",
        "    # nn.ReLU(inplace=True),\n",
        "    # nn.Conv2d(in_channels=64, out_channels=64, kernel_size=3, padding=1),\n",
        "    # nn.ReLU(inplace=True),\n",
        "    # nn.MaxPool2d(kernel_size=2, stride=2), \n",
        "    \n",
        "    # nn.Conv2d(in_channels=64, out_channels=64, kernel_size=3, padding=1),\n",
        "    # nn.ReLU(inplace=True),\n",
        "    # nn.Conv2d(in_channels=64, out_channels=64, kernel_size=3, padding=1),\n",
        "    # nn.ReLU(inplace=True),\n",
        "    # nn.Conv2d(in_channels=64, out_channels=64, kernel_size=3, padding=1),\n",
        "    # nn.ReLU(inplace=True),\n",
        "    # nn.MaxPool2d(kernel_size=2, stride=2), \n",
        "\n",
        "    nn.Flatten(),\n",
        "    nn.Linear(131072, 512),\n",
        "    nn.ReLU(inplace=True),\n",
        "    nn.Dropout(0.5),\n",
        "    # nn.Linear(4096, 4096),\n",
        "    # nn.ReLU(inplace=True),\n",
        "    # nn.Dropout(0.5),\n",
        "    nn.Linear(512, 3)\n",
        ")\n"
      ],
      "metadata": {
        "execution": {
          "iopub.status.busy": "2022-03-18T04:45:33.679094Z",
          "iopub.execute_input": "2022-03-18T04:45:33.679383Z",
          "iopub.status.idle": "2022-03-18T04:45:34.243849Z",
          "shell.execute_reply.started": "2022-03-18T04:45:33.679351Z",
          "shell.execute_reply": "2022-03-18T04:45:34.243032Z"
        },
        "trusted": true,
        "id": "SjqU9j98zdC3"
      },
      "execution_count": null,
      "outputs": []
    },
    {
      "cell_type": "code",
      "source": [
        "data = ImageDataBunch.from_folder(path, train=\"Train\", valid =\"Valid\", valid_pct=0.2,ds_tfms=get_transforms(), size=(256,256), bs=16, num_workers=4)\n",
        "for itemList in [\"train_dl\", \"valid_dl\", \"fix_dl\", \"test_dl\"]:\n",
        "    itemList = getattr(data, itemList)\n",
        "    if itemList: itemList.x.convert_mode = \"L\"\n",
        "vgg_learn = Learner(data, vgg_model, loss_func = nn.CrossEntropyLoss(), metrics=accuracy)\n",
        "print(vgg_learn.summary())"
      ],
      "metadata": {
        "execution": {
          "iopub.status.busy": "2022-03-18T04:45:36.871820Z",
          "iopub.execute_input": "2022-03-18T04:45:36.872643Z",
          "iopub.status.idle": "2022-03-18T04:45:38.288898Z",
          "shell.execute_reply.started": "2022-03-18T04:45:36.872605Z",
          "shell.execute_reply": "2022-03-18T04:45:38.288195Z"
        },
        "trusted": true,
        "id": "2L7sEFfnzdC5",
        "outputId": "56ebd0ee-7ad7-43fb-8ca4-134f9e5e3f4f"
      },
      "execution_count": null,
      "outputs": [
        {
          "name": "stdout",
          "text": "Sequential\n======================================================================\nLayer (type)         Output Shape         Param #    Trainable \n======================================================================\nConv2d               [16, 256, 256]       160        True      \n______________________________________________________________________\nReLU                 [16, 256, 256]       0          False     \n______________________________________________________________________\nConv2d               [16, 256, 256]       2,320      True      \n______________________________________________________________________\nReLU                 [16, 256, 256]       0          False     \n______________________________________________________________________\nMaxPool2d            [16, 128, 128]       0          False     \n______________________________________________________________________\nConv2d               [32, 128, 128]       4,640      True      \n______________________________________________________________________\nReLU                 [32, 128, 128]       0          False     \n______________________________________________________________________\nConv2d               [32, 128, 128]       9,248      True      \n______________________________________________________________________\nReLU                 [32, 128, 128]       0          False     \n______________________________________________________________________\nMaxPool2d            [32, 64, 64]         0          False     \n______________________________________________________________________\nConv2d               [64, 64, 64]         18,496     True      \n______________________________________________________________________\nReLU                 [64, 64, 64]         0          False     \n______________________________________________________________________\nConv2d               [64, 64, 64]         36,928     True      \n______________________________________________________________________\nReLU                 [64, 64, 64]         0          False     \n______________________________________________________________________\nConv2d               [128, 64, 64]        73,856     True      \n______________________________________________________________________\nReLU                 [128, 64, 64]        0          False     \n______________________________________________________________________\nMaxPool2d            [128, 32, 32]        0          False     \n______________________________________________________________________\nFlatten              [131072]             0          False     \n______________________________________________________________________\nLinear               [512]                67,109,376 True      \n______________________________________________________________________\nReLU                 [512]                0          False     \n______________________________________________________________________\nDropout              [512]                0          False     \n______________________________________________________________________\nLinear               [3]                  1,539      True      \n______________________________________________________________________\n\nTotal params: 67,256,563\nTotal trainable params: 67,256,563\nTotal non-trainable params: 0\nOptimized with 'torch.optim.adam.Adam', betas=(0.9, 0.99)\nUsing true weight decay as discussed in https://www.fast.ai/2018/07/02/adam-weight-decay/ \nLoss function : CrossEntropyLoss\n======================================================================\nCallbacks functions applied \n\n",
          "output_type": "stream"
        }
      ]
    },
    {
      "cell_type": "code",
      "source": [
        "import time\n",
        "start = time.time()\n",
        "vgg_learn.fit_one_cycle(100, max_lr=4e-3)\n",
        "end = time.time()\n",
        "print(end-start)"
      ],
      "metadata": {
        "execution": {
          "iopub.status.busy": "2022-03-18T04:45:45.995765Z",
          "iopub.execute_input": "2022-03-18T04:45:45.996242Z",
          "iopub.status.idle": "2022-03-18T05:23:55.212421Z",
          "shell.execute_reply.started": "2022-03-18T04:45:45.996206Z",
          "shell.execute_reply": "2022-03-18T05:23:55.211159Z"
        },
        "trusted": true,
        "id": "lxxw2xPZzdC7",
        "outputId": "ee4ea31f-81a9-4b42-b799-7efdc29f4683"
      },
      "execution_count": null,
      "outputs": [
        {
          "output_type": "display_data",
          "data": {
            "text/plain": "<IPython.core.display.HTML object>",
            "text/html": "\n<style>\n    /* Turns off some styling */\n    progress {\n        /* gets rid of default border in Firefox and Opera. */\n        border: none;\n        /* Needs to be in here for Safari polyfill so background images work as expected. */\n        background-size: auto;\n    }\n    .progress-bar-interrupted, .progress-bar-interrupted::-webkit-progress-bar {\n        background: #F44336;\n    }\n</style>\n"
          },
          "metadata": {}
        },
        {
          "output_type": "display_data",
          "data": {
            "text/plain": "<IPython.core.display.HTML object>",
            "text/html": "<table border=\"1\" class=\"dataframe\">\n  <thead>\n    <tr style=\"text-align: left;\">\n      <th>epoch</th>\n      <th>train_loss</th>\n      <th>valid_loss</th>\n      <th>accuracy</th>\n      <th>time</th>\n    </tr>\n  </thead>\n  <tbody>\n    <tr>\n      <td>0</td>\n      <td>1.001638</td>\n      <td>0.946729</td>\n      <td>0.431111</td>\n      <td>00:23</td>\n    </tr>\n    <tr>\n      <td>1</td>\n      <td>0.991617</td>\n      <td>0.935088</td>\n      <td>0.480000</td>\n      <td>00:22</td>\n    </tr>\n    <tr>\n      <td>2</td>\n      <td>0.989380</td>\n      <td>0.956835</td>\n      <td>0.480000</td>\n      <td>00:22</td>\n    </tr>\n    <tr>\n      <td>3</td>\n      <td>0.969459</td>\n      <td>0.834807</td>\n      <td>0.595556</td>\n      <td>00:22</td>\n    </tr>\n    <tr>\n      <td>4</td>\n      <td>0.838718</td>\n      <td>0.672648</td>\n      <td>0.684444</td>\n      <td>00:23</td>\n    </tr>\n    <tr>\n      <td>5</td>\n      <td>0.765000</td>\n      <td>0.647176</td>\n      <td>0.688889</td>\n      <td>00:22</td>\n    </tr>\n    <tr>\n      <td>6</td>\n      <td>0.738895</td>\n      <td>0.628361</td>\n      <td>0.702222</td>\n      <td>00:22</td>\n    </tr>\n    <tr>\n      <td>7</td>\n      <td>0.726907</td>\n      <td>0.651437</td>\n      <td>0.728889</td>\n      <td>00:23</td>\n    </tr>\n    <tr>\n      <td>8</td>\n      <td>0.729611</td>\n      <td>0.672681</td>\n      <td>0.688889</td>\n      <td>00:22</td>\n    </tr>\n    <tr>\n      <td>9</td>\n      <td>0.720174</td>\n      <td>0.705872</td>\n      <td>0.684444</td>\n      <td>00:22</td>\n    </tr>\n    <tr>\n      <td>10</td>\n      <td>0.732954</td>\n      <td>0.610783</td>\n      <td>0.751111</td>\n      <td>00:23</td>\n    </tr>\n    <tr>\n      <td>11</td>\n      <td>0.736907</td>\n      <td>0.620410</td>\n      <td>0.751111</td>\n      <td>00:22</td>\n    </tr>\n    <tr>\n      <td>12</td>\n      <td>0.725480</td>\n      <td>0.655748</td>\n      <td>0.706667</td>\n      <td>00:22</td>\n    </tr>\n    <tr>\n      <td>13</td>\n      <td>0.741780</td>\n      <td>0.646693</td>\n      <td>0.755556</td>\n      <td>00:23</td>\n    </tr>\n    <tr>\n      <td>14</td>\n      <td>0.727141</td>\n      <td>0.616454</td>\n      <td>0.746667</td>\n      <td>00:23</td>\n    </tr>\n    <tr>\n      <td>15</td>\n      <td>0.744750</td>\n      <td>0.716590</td>\n      <td>0.666667</td>\n      <td>00:22</td>\n    </tr>\n    <tr>\n      <td>16</td>\n      <td>0.711256</td>\n      <td>0.599999</td>\n      <td>0.755556</td>\n      <td>00:22</td>\n    </tr>\n    <tr>\n      <td>17</td>\n      <td>0.699754</td>\n      <td>0.675995</td>\n      <td>0.711111</td>\n      <td>00:23</td>\n    </tr>\n    <tr>\n      <td>18</td>\n      <td>0.716342</td>\n      <td>0.642927</td>\n      <td>0.737778</td>\n      <td>00:22</td>\n    </tr>\n    <tr>\n      <td>19</td>\n      <td>0.710923</td>\n      <td>0.640227</td>\n      <td>0.724444</td>\n      <td>00:23</td>\n    </tr>\n    <tr>\n      <td>20</td>\n      <td>0.722842</td>\n      <td>0.594609</td>\n      <td>0.755556</td>\n      <td>00:22</td>\n    </tr>\n    <tr>\n      <td>21</td>\n      <td>0.696070</td>\n      <td>0.605920</td>\n      <td>0.737778</td>\n      <td>00:22</td>\n    </tr>\n    <tr>\n      <td>22</td>\n      <td>0.717339</td>\n      <td>0.633287</td>\n      <td>0.768889</td>\n      <td>00:23</td>\n    </tr>\n    <tr>\n      <td>23</td>\n      <td>0.713678</td>\n      <td>0.599768</td>\n      <td>0.737778</td>\n      <td>00:23</td>\n    </tr>\n    <tr>\n      <td>24</td>\n      <td>0.720543</td>\n      <td>0.620777</td>\n      <td>0.728889</td>\n      <td>00:22</td>\n    </tr>\n    <tr>\n      <td>25</td>\n      <td>0.700095</td>\n      <td>0.575100</td>\n      <td>0.768889</td>\n      <td>00:23</td>\n    </tr>\n    <tr>\n      <td>26</td>\n      <td>0.698121</td>\n      <td>0.702909</td>\n      <td>0.702222</td>\n      <td>00:22</td>\n    </tr>\n    <tr>\n      <td>27</td>\n      <td>0.677581</td>\n      <td>0.608436</td>\n      <td>0.755556</td>\n      <td>00:22</td>\n    </tr>\n    <tr>\n      <td>28</td>\n      <td>0.688847</td>\n      <td>0.694050</td>\n      <td>0.711111</td>\n      <td>00:22</td>\n    </tr>\n    <tr>\n      <td>29</td>\n      <td>0.709601</td>\n      <td>0.617948</td>\n      <td>0.773333</td>\n      <td>00:23</td>\n    </tr>\n    <tr>\n      <td>30</td>\n      <td>0.676902</td>\n      <td>0.611425</td>\n      <td>0.786667</td>\n      <td>00:23</td>\n    </tr>\n    <tr>\n      <td>31</td>\n      <td>0.665630</td>\n      <td>0.611702</td>\n      <td>0.746667</td>\n      <td>00:22</td>\n    </tr>\n    <tr>\n      <td>32</td>\n      <td>0.669437</td>\n      <td>0.560894</td>\n      <td>0.755556</td>\n      <td>00:23</td>\n    </tr>\n    <tr>\n      <td>33</td>\n      <td>0.697906</td>\n      <td>0.557945</td>\n      <td>0.764444</td>\n      <td>00:22</td>\n    </tr>\n    <tr>\n      <td>34</td>\n      <td>0.682819</td>\n      <td>0.597357</td>\n      <td>0.791111</td>\n      <td>00:22</td>\n    </tr>\n    <tr>\n      <td>35</td>\n      <td>0.647151</td>\n      <td>0.546281</td>\n      <td>0.800000</td>\n      <td>00:22</td>\n    </tr>\n    <tr>\n      <td>36</td>\n      <td>0.620927</td>\n      <td>0.552597</td>\n      <td>0.773333</td>\n      <td>00:23</td>\n    </tr>\n    <tr>\n      <td>37</td>\n      <td>0.625812</td>\n      <td>0.592037</td>\n      <td>0.751111</td>\n      <td>00:23</td>\n    </tr>\n    <tr>\n      <td>38</td>\n      <td>0.662834</td>\n      <td>0.655319</td>\n      <td>0.715556</td>\n      <td>00:22</td>\n    </tr>\n    <tr>\n      <td>39</td>\n      <td>0.647115</td>\n      <td>0.549667</td>\n      <td>0.813333</td>\n      <td>00:23</td>\n    </tr>\n    <tr>\n      <td>40</td>\n      <td>0.632840</td>\n      <td>0.569546</td>\n      <td>0.791111</td>\n      <td>00:23</td>\n    </tr>\n    <tr>\n      <td>41</td>\n      <td>0.646172</td>\n      <td>0.588854</td>\n      <td>0.786667</td>\n      <td>00:22</td>\n    </tr>\n    <tr>\n      <td>42</td>\n      <td>0.599921</td>\n      <td>0.529669</td>\n      <td>0.795556</td>\n      <td>00:22</td>\n    </tr>\n    <tr>\n      <td>43</td>\n      <td>0.621017</td>\n      <td>0.557680</td>\n      <td>0.782222</td>\n      <td>00:23</td>\n    </tr>\n    <tr>\n      <td>44</td>\n      <td>0.608013</td>\n      <td>0.529351</td>\n      <td>0.782222</td>\n      <td>00:22</td>\n    </tr>\n    <tr>\n      <td>45</td>\n      <td>0.621424</td>\n      <td>0.488926</td>\n      <td>0.773333</td>\n      <td>00:22</td>\n    </tr>\n    <tr>\n      <td>46</td>\n      <td>0.603537</td>\n      <td>0.581511</td>\n      <td>0.768889</td>\n      <td>00:22</td>\n    </tr>\n    <tr>\n      <td>47</td>\n      <td>0.593830</td>\n      <td>0.570140</td>\n      <td>0.768889</td>\n      <td>00:22</td>\n    </tr>\n    <tr>\n      <td>48</td>\n      <td>0.568867</td>\n      <td>0.480821</td>\n      <td>0.791111</td>\n      <td>00:22</td>\n    </tr>\n    <tr>\n      <td>49</td>\n      <td>0.584829</td>\n      <td>0.514169</td>\n      <td>0.800000</td>\n      <td>00:23</td>\n    </tr>\n    <tr>\n      <td>50</td>\n      <td>0.575094</td>\n      <td>0.545444</td>\n      <td>0.773333</td>\n      <td>00:22</td>\n    </tr>\n    <tr>\n      <td>51</td>\n      <td>0.570285</td>\n      <td>0.571535</td>\n      <td>0.777778</td>\n      <td>00:22</td>\n    </tr>\n    <tr>\n      <td>52</td>\n      <td>0.582229</td>\n      <td>0.519750</td>\n      <td>0.808889</td>\n      <td>00:23</td>\n    </tr>\n    <tr>\n      <td>53</td>\n      <td>0.586320</td>\n      <td>0.523572</td>\n      <td>0.795556</td>\n      <td>00:22</td>\n    </tr>\n    <tr>\n      <td>54</td>\n      <td>0.563888</td>\n      <td>0.484204</td>\n      <td>0.817778</td>\n      <td>00:22</td>\n    </tr>\n    <tr>\n      <td>55</td>\n      <td>0.551829</td>\n      <td>0.557622</td>\n      <td>0.746667</td>\n      <td>00:23</td>\n    </tr>\n    <tr>\n      <td>56</td>\n      <td>0.579182</td>\n      <td>0.469050</td>\n      <td>0.804444</td>\n      <td>00:22</td>\n    </tr>\n    <tr>\n      <td>57</td>\n      <td>0.553032</td>\n      <td>0.535331</td>\n      <td>0.795556</td>\n      <td>00:22</td>\n    </tr>\n    <tr>\n      <td>58</td>\n      <td>0.565507</td>\n      <td>0.685297</td>\n      <td>0.751111</td>\n      <td>00:22</td>\n    </tr>\n    <tr>\n      <td>59</td>\n      <td>0.547811</td>\n      <td>0.509028</td>\n      <td>0.817778</td>\n      <td>00:23</td>\n    </tr>\n    <tr>\n      <td>60</td>\n      <td>0.564396</td>\n      <td>0.494077</td>\n      <td>0.786667</td>\n      <td>00:23</td>\n    </tr>\n    <tr>\n      <td>61</td>\n      <td>0.586601</td>\n      <td>0.542573</td>\n      <td>0.764444</td>\n      <td>00:22</td>\n    </tr>\n    <tr>\n      <td>62</td>\n      <td>0.552454</td>\n      <td>0.489302</td>\n      <td>0.808889</td>\n      <td>00:22</td>\n    </tr>\n    <tr>\n      <td>63</td>\n      <td>0.538659</td>\n      <td>0.476952</td>\n      <td>0.800000</td>\n      <td>00:23</td>\n    </tr>\n    <tr>\n      <td>64</td>\n      <td>0.531623</td>\n      <td>0.469488</td>\n      <td>0.804444</td>\n      <td>00:22</td>\n    </tr>\n    <tr>\n      <td>65</td>\n      <td>0.555499</td>\n      <td>0.496720</td>\n      <td>0.800000</td>\n      <td>00:22</td>\n    </tr>\n    <tr>\n      <td>66</td>\n      <td>0.512279</td>\n      <td>0.518460</td>\n      <td>0.777778</td>\n      <td>00:23</td>\n    </tr>\n    <tr>\n      <td>67</td>\n      <td>0.531465</td>\n      <td>0.482063</td>\n      <td>0.804444</td>\n      <td>00:23</td>\n    </tr>\n    <tr>\n      <td>68</td>\n      <td>0.530759</td>\n      <td>0.454748</td>\n      <td>0.826667</td>\n      <td>00:22</td>\n    </tr>\n    <tr>\n      <td>69</td>\n      <td>0.517728</td>\n      <td>0.468714</td>\n      <td>0.813333</td>\n      <td>00:22</td>\n    </tr>\n    <tr>\n      <td>70</td>\n      <td>0.514575</td>\n      <td>0.464160</td>\n      <td>0.813333</td>\n      <td>00:23</td>\n    </tr>\n    <tr>\n      <td>71</td>\n      <td>0.515654</td>\n      <td>0.462892</td>\n      <td>0.813333</td>\n      <td>00:22</td>\n    </tr>\n    <tr>\n      <td>72</td>\n      <td>0.522777</td>\n      <td>0.459507</td>\n      <td>0.800000</td>\n      <td>00:23</td>\n    </tr>\n    <tr>\n      <td>73</td>\n      <td>0.512342</td>\n      <td>0.436816</td>\n      <td>0.822222</td>\n      <td>00:23</td>\n    </tr>\n    <tr>\n      <td>74</td>\n      <td>0.492880</td>\n      <td>0.447410</td>\n      <td>0.813333</td>\n      <td>00:22</td>\n    </tr>\n    <tr>\n      <td>75</td>\n      <td>0.504429</td>\n      <td>0.453161</td>\n      <td>0.804444</td>\n      <td>00:23</td>\n    </tr>\n    <tr>\n      <td>76</td>\n      <td>0.505208</td>\n      <td>0.432277</td>\n      <td>0.831111</td>\n      <td>00:23</td>\n    </tr>\n    <tr>\n      <td>77</td>\n      <td>0.502605</td>\n      <td>0.441240</td>\n      <td>0.808889</td>\n      <td>00:22</td>\n    </tr>\n    <tr>\n      <td>78</td>\n      <td>0.474433</td>\n      <td>0.421597</td>\n      <td>0.822222</td>\n      <td>00:22</td>\n    </tr>\n    <tr>\n      <td>79</td>\n      <td>0.473567</td>\n      <td>0.426674</td>\n      <td>0.831111</td>\n      <td>00:23</td>\n    </tr>\n    <tr>\n      <td>80</td>\n      <td>0.450875</td>\n      <td>0.422455</td>\n      <td>0.831111</td>\n      <td>00:22</td>\n    </tr>\n    <tr>\n      <td>81</td>\n      <td>0.462198</td>\n      <td>0.422623</td>\n      <td>0.822222</td>\n      <td>00:22</td>\n    </tr>\n    <tr>\n      <td>82</td>\n      <td>0.463331</td>\n      <td>0.414810</td>\n      <td>0.844444</td>\n      <td>00:22</td>\n    </tr>\n    <tr>\n      <td>83</td>\n      <td>0.452127</td>\n      <td>0.410957</td>\n      <td>0.835556</td>\n      <td>00:23</td>\n    </tr>\n    <tr>\n      <td>84</td>\n      <td>0.441368</td>\n      <td>0.418971</td>\n      <td>0.826667</td>\n      <td>00:22</td>\n    </tr>\n    <tr>\n      <td>85</td>\n      <td>0.461998</td>\n      <td>0.426013</td>\n      <td>0.817778</td>\n      <td>00:23</td>\n    </tr>\n    <tr>\n      <td>86</td>\n      <td>0.430799</td>\n      <td>0.416474</td>\n      <td>0.826667</td>\n      <td>00:23</td>\n    </tr>\n    <tr>\n      <td>87</td>\n      <td>0.449427</td>\n      <td>0.439918</td>\n      <td>0.826667</td>\n      <td>00:22</td>\n    </tr>\n    <tr>\n      <td>88</td>\n      <td>0.462563</td>\n      <td>0.417414</td>\n      <td>0.844444</td>\n      <td>00:22</td>\n    </tr>\n    <tr>\n      <td>89</td>\n      <td>0.442365</td>\n      <td>0.397335</td>\n      <td>0.831111</td>\n      <td>00:23</td>\n    </tr>\n    <tr>\n      <td>90</td>\n      <td>0.444784</td>\n      <td>0.394067</td>\n      <td>0.831111</td>\n      <td>00:23</td>\n    </tr>\n    <tr>\n      <td>91</td>\n      <td>0.442974</td>\n      <td>0.397977</td>\n      <td>0.840000</td>\n      <td>00:22</td>\n    </tr>\n    <tr>\n      <td>92</td>\n      <td>0.454687</td>\n      <td>0.399290</td>\n      <td>0.831111</td>\n      <td>00:23</td>\n    </tr>\n    <tr>\n      <td>93</td>\n      <td>0.442428</td>\n      <td>0.390396</td>\n      <td>0.848889</td>\n      <td>00:23</td>\n    </tr>\n    <tr>\n      <td>94</td>\n      <td>0.466953</td>\n      <td>0.395387</td>\n      <td>0.844444</td>\n      <td>00:23</td>\n    </tr>\n    <tr>\n      <td>95</td>\n      <td>0.460265</td>\n      <td>0.398727</td>\n      <td>0.844444</td>\n      <td>00:22</td>\n    </tr>\n    <tr>\n      <td>96</td>\n      <td>0.433868</td>\n      <td>0.398080</td>\n      <td>0.844444</td>\n      <td>00:23</td>\n    </tr>\n    <tr>\n      <td>97</td>\n      <td>0.447994</td>\n      <td>0.398579</td>\n      <td>0.835556</td>\n      <td>00:23</td>\n    </tr>\n    <tr>\n      <td>98</td>\n      <td>0.425667</td>\n      <td>0.398519</td>\n      <td>0.840000</td>\n      <td>00:22</td>\n    </tr>\n    <tr>\n      <td>99</td>\n      <td>0.428069</td>\n      <td>0.398596</td>\n      <td>0.840000</td>\n      <td>00:23</td>\n    </tr>\n  </tbody>\n</table>"
          },
          "metadata": {}
        },
        {
          "name": "stdout",
          "text": "2289.208954811096\n",
          "output_type": "stream"
        }
      ]
    }
  ]
}