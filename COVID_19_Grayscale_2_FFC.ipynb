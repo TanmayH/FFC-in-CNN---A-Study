{
  "metadata": {
    "kernelspec": {
      "language": "python",
      "display_name": "Python 3",
      "name": "python3"
    },
    "language_info": {
      "name": "python",
      "version": "3.7.12",
      "mimetype": "text/x-python",
      "codemirror_mode": {
        "name": "ipython",
        "version": 3
      },
      "pygments_lexer": "ipython3",
      "nbconvert_exporter": "python",
      "file_extension": ".py"
    },
    "colab": {
      "name": "COVID-19 Grayscale 2 FFC.ipynb",
      "provenance": [],
      "collapsed_sections": []
    }
  },
  "nbformat_minor": 0,
  "nbformat": 4,
  "cells": [
    {
      "cell_type": "code",
      "source": [
        "%reload_ext autoreload\n",
        "%autoreload 2\n",
        "%matplotlib inline"
      ],
      "metadata": {
        "id": "Ggtu0DDwMzjB",
        "execution": {
          "iopub.status.busy": "2022-03-17T01:44:20.575013Z",
          "iopub.execute_input": "2022-03-17T01:44:20.575353Z",
          "iopub.status.idle": "2022-03-17T01:44:20.630991Z",
          "shell.execute_reply.started": "2022-03-17T01:44:20.57525Z",
          "shell.execute_reply": "2022-03-17T01:44:20.630362Z"
        },
        "trusted": true
      },
      "execution_count": null,
      "outputs": []
    },
    {
      "cell_type": "code",
      "source": [
        "!pip install fastai==\"1.0.61\"\n",
        "!pip install torchsummary"
      ],
      "metadata": {
        "execution": {
          "iopub.status.busy": "2022-03-17T19:20:07.173905Z",
          "iopub.execute_input": "2022-03-17T19:20:07.174170Z",
          "iopub.status.idle": "2022-03-17T19:20:23.118190Z",
          "shell.execute_reply.started": "2022-03-17T19:20:07.174142Z",
          "shell.execute_reply": "2022-03-17T19:20:23.117362Z"
        },
        "trusted": true,
        "id": "c8KoR3YY5OlM",
        "outputId": "d2246451-fcba-476c-bd58-bb1e2b013159"
      },
      "execution_count": null,
      "outputs": [
        {
          "name": "stdout",
          "text": "Requirement already satisfied: fastai==1.0.61 in /opt/conda/lib/python3.7/site-packages (1.0.61)\nRequirement already satisfied: pyyaml in /opt/conda/lib/python3.7/site-packages (from fastai==1.0.61) (6.0)\nRequirement already satisfied: scipy in /opt/conda/lib/python3.7/site-packages (from fastai==1.0.61) (1.7.3)\nRequirement already satisfied: requests in /opt/conda/lib/python3.7/site-packages (from fastai==1.0.61) (2.26.0)\nRequirement already satisfied: spacy>=2.0.18 in /opt/conda/lib/python3.7/site-packages (from fastai==1.0.61) (3.2.2)\nRequirement already satisfied: Pillow in /opt/conda/lib/python3.7/site-packages (from fastai==1.0.61) (8.2.0)\nRequirement already satisfied: beautifulsoup4 in /opt/conda/lib/python3.7/site-packages (from fastai==1.0.61) (4.10.0)\nRequirement already satisfied: numexpr in /opt/conda/lib/python3.7/site-packages (from fastai==1.0.61) (2.8.1)\nRequirement already satisfied: fastprogress>=0.2.1 in /opt/conda/lib/python3.7/site-packages (from fastai==1.0.61) (1.0.2)\nRequirement already satisfied: torchvision in /opt/conda/lib/python3.7/site-packages (from fastai==1.0.61) (0.10.1)\nRequirement already satisfied: pandas in /opt/conda/lib/python3.7/site-packages (from fastai==1.0.61) (1.3.5)\nRequirement already satisfied: packaging in /opt/conda/lib/python3.7/site-packages (from fastai==1.0.61) (21.3)\nRequirement already satisfied: bottleneck in /opt/conda/lib/python3.7/site-packages (from fastai==1.0.61) (1.3.2)\nRequirement already satisfied: nvidia-ml-py3 in /opt/conda/lib/python3.7/site-packages (from fastai==1.0.61) (7.352.0)\nRequirement already satisfied: torch>=1.0.0 in /opt/conda/lib/python3.7/site-packages (from fastai==1.0.61) (1.9.1)\nRequirement already satisfied: matplotlib in /opt/conda/lib/python3.7/site-packages (from fastai==1.0.61) (3.5.1)\nRequirement already satisfied: numpy>=1.15 in /opt/conda/lib/python3.7/site-packages (from fastai==1.0.61) (1.20.3)\nRequirement already satisfied: spacy-legacy<3.1.0,>=3.0.8 in /opt/conda/lib/python3.7/site-packages (from spacy>=2.0.18->fastai==1.0.61) (3.0.9)\nRequirement already satisfied: typer<0.5.0,>=0.3.0 in /opt/conda/lib/python3.7/site-packages (from spacy>=2.0.18->fastai==1.0.61) (0.4.0)\nRequirement already satisfied: spacy-loggers<2.0.0,>=1.0.0 in /opt/conda/lib/python3.7/site-packages (from spacy>=2.0.18->fastai==1.0.61) (1.0.1)\nRequirement already satisfied: pydantic!=1.8,!=1.8.1,<1.9.0,>=1.7.4 in /opt/conda/lib/python3.7/site-packages (from spacy>=2.0.18->fastai==1.0.61) (1.8.2)\nRequirement already satisfied: wasabi<1.1.0,>=0.8.1 in /opt/conda/lib/python3.7/site-packages (from spacy>=2.0.18->fastai==1.0.61) (0.9.0)\nRequirement already satisfied: tqdm<5.0.0,>=4.38.0 in /opt/conda/lib/python3.7/site-packages (from spacy>=2.0.18->fastai==1.0.61) (4.62.3)\nRequirement already satisfied: typing-extensions<4.0.0.0,>=3.7.4 in /opt/conda/lib/python3.7/site-packages (from spacy>=2.0.18->fastai==1.0.61) (3.10.0.2)\nRequirement already satisfied: cymem<2.1.0,>=2.0.2 in /opt/conda/lib/python3.7/site-packages (from spacy>=2.0.18->fastai==1.0.61) (2.0.6)\nRequirement already satisfied: srsly<3.0.0,>=2.4.1 in /opt/conda/lib/python3.7/site-packages (from spacy>=2.0.18->fastai==1.0.61) (2.4.2)\nRequirement already satisfied: murmurhash<1.1.0,>=0.28.0 in /opt/conda/lib/python3.7/site-packages (from spacy>=2.0.18->fastai==1.0.61) (1.0.6)\nRequirement already satisfied: catalogue<2.1.0,>=2.0.6 in /opt/conda/lib/python3.7/site-packages (from spacy>=2.0.18->fastai==1.0.61) (2.0.6)\nRequirement already satisfied: thinc<8.1.0,>=8.0.12 in /opt/conda/lib/python3.7/site-packages (from spacy>=2.0.18->fastai==1.0.61) (8.0.13)\nRequirement already satisfied: jinja2 in /opt/conda/lib/python3.7/site-packages (from spacy>=2.0.18->fastai==1.0.61) (3.0.3)\nRequirement already satisfied: preshed<3.1.0,>=3.0.2 in /opt/conda/lib/python3.7/site-packages (from spacy>=2.0.18->fastai==1.0.61) (3.0.6)\nRequirement already satisfied: setuptools in /opt/conda/lib/python3.7/site-packages (from spacy>=2.0.18->fastai==1.0.61) (59.5.0)\nRequirement already satisfied: pathy>=0.3.5 in /opt/conda/lib/python3.7/site-packages (from spacy>=2.0.18->fastai==1.0.61) (0.6.1)\nRequirement already satisfied: blis<0.8.0,>=0.4.0 in /opt/conda/lib/python3.7/site-packages (from spacy>=2.0.18->fastai==1.0.61) (0.7.5)\nRequirement already satisfied: langcodes<4.0.0,>=3.2.0 in /opt/conda/lib/python3.7/site-packages (from spacy>=2.0.18->fastai==1.0.61) (3.3.0)\nRequirement already satisfied: pyparsing!=3.0.5,>=2.0.2 in /opt/conda/lib/python3.7/site-packages (from packaging->fastai==1.0.61) (3.0.6)\nRequirement already satisfied: charset-normalizer~=2.0.0 in /opt/conda/lib/python3.7/site-packages (from requests->fastai==1.0.61) (2.0.9)\nRequirement already satisfied: certifi>=2017.4.17 in /opt/conda/lib/python3.7/site-packages (from requests->fastai==1.0.61) (2021.10.8)\nRequirement already satisfied: idna<4,>=2.5 in /opt/conda/lib/python3.7/site-packages (from requests->fastai==1.0.61) (3.1)\nRequirement already satisfied: urllib3<1.27,>=1.21.1 in /opt/conda/lib/python3.7/site-packages (from requests->fastai==1.0.61) (1.26.7)\nRequirement already satisfied: soupsieve>1.2 in /opt/conda/lib/python3.7/site-packages (from beautifulsoup4->fastai==1.0.61) (2.3.1)\nRequirement already satisfied: python-dateutil>=2.7 in /opt/conda/lib/python3.7/site-packages (from matplotlib->fastai==1.0.61) (2.8.2)\nRequirement already satisfied: kiwisolver>=1.0.1 in /opt/conda/lib/python3.7/site-packages (from matplotlib->fastai==1.0.61) (1.3.2)\nRequirement already satisfied: cycler>=0.10 in /opt/conda/lib/python3.7/site-packages (from matplotlib->fastai==1.0.61) (0.11.0)\nRequirement already satisfied: fonttools>=4.22.0 in /opt/conda/lib/python3.7/site-packages (from matplotlib->fastai==1.0.61) (4.28.4)\nRequirement already satisfied: pytz>=2017.3 in /opt/conda/lib/python3.7/site-packages (from pandas->fastai==1.0.61) (2021.3)\nRequirement already satisfied: zipp>=0.5 in /opt/conda/lib/python3.7/site-packages (from catalogue<2.1.0,>=2.0.6->spacy>=2.0.18->fastai==1.0.61) (3.6.0)\nRequirement already satisfied: smart-open<6.0.0,>=5.0.0 in /opt/conda/lib/python3.7/site-packages (from pathy>=0.3.5->spacy>=2.0.18->fastai==1.0.61) (5.2.1)\nRequirement already satisfied: six>=1.5 in /opt/conda/lib/python3.7/site-packages (from python-dateutil>=2.7->matplotlib->fastai==1.0.61) (1.16.0)\nRequirement already satisfied: click<9.0.0,>=7.1.1 in /opt/conda/lib/python3.7/site-packages (from typer<0.5.0,>=0.3.0->spacy>=2.0.18->fastai==1.0.61) (8.0.3)\nRequirement already satisfied: MarkupSafe>=2.0 in /opt/conda/lib/python3.7/site-packages (from jinja2->spacy>=2.0.18->fastai==1.0.61) (2.1.0)\nRequirement already satisfied: importlib-metadata in /opt/conda/lib/python3.7/site-packages (from click<9.0.0,>=7.1.1->typer<0.5.0,>=0.3.0->spacy>=2.0.18->fastai==1.0.61) (4.11.2)\n\u001b[33mWARNING: Running pip as the 'root' user can result in broken permissions and conflicting behaviour with the system package manager. It is recommended to use a virtual environment instead: https://pip.pypa.io/warnings/venv\u001b[0m\nCollecting torchsummary\n  Downloading torchsummary-1.5.1-py3-none-any.whl (2.8 kB)\nInstalling collected packages: torchsummary\nSuccessfully installed torchsummary-1.5.1\n\u001b[33mWARNING: Running pip as the 'root' user can result in broken permissions and conflicting behaviour with the system package manager. It is recommended to use a virtual environment instead: https://pip.pypa.io/warnings/venv\u001b[0m\n",
          "output_type": "stream"
        }
      ]
    },
    {
      "cell_type": "code",
      "source": [
        "import torch.nn as nn\n",
        "import torch.nn.functional as F\n",
        "import torch\n",
        "from google.colab import drive\n",
        "drive.mount('/content/drive')\n",
        "from glob import glob\n",
        "import torchvision\n",
        "import torchvision.transforms as transforms\n",
        "import torchvision.datasets as datasets\n",
        "from torchsummary import summary\n",
        "from fastai.metrics import accuracy\n",
        "from fastai.vision import *\n",
        "import numpy as np\n",
        "!pip install fft-conv-pytorch\n",
        "from fft_conv_pytorch import fft_conv, FFTConv2d"
      ],
      "metadata": {
        "id": "zMLxNfecNGPJ",
        "outputId": "f2fd7337-8bf0-48ee-b415-11df38e1ae8d",
        "execution": {
          "iopub.status.busy": "2022-03-17T19:20:26.947780Z",
          "iopub.execute_input": "2022-03-17T19:20:26.948418Z",
          "iopub.status.idle": "2022-03-17T19:20:36.268658Z",
          "shell.execute_reply.started": "2022-03-17T19:20:26.948375Z",
          "shell.execute_reply": "2022-03-17T19:20:36.267773Z"
        },
        "trusted": true,
        "colab": {
          "base_uri": "https://localhost:8080/"
        }
      },
      "execution_count": 4,
      "outputs": [
        {
          "output_type": "stream",
          "name": "stdout",
          "text": [
            "Mounted at /content/drive\n",
            "Requirement already satisfied: fft-conv-pytorch in /usr/local/lib/python3.7/dist-packages (1.1.3)\n",
            "Requirement already satisfied: torch>=1.8 in /usr/local/lib/python3.7/dist-packages (from fft-conv-pytorch) (1.10.0+cu111)\n",
            "Requirement already satisfied: numpy in /usr/local/lib/python3.7/dist-packages (from fft-conv-pytorch) (1.21.5)\n",
            "Requirement already satisfied: typing-extensions in /usr/local/lib/python3.7/dist-packages (from torch>=1.8->fft-conv-pytorch) (3.10.0.2)\n"
          ]
        }
      ]
    },
    {
      "cell_type": "code",
      "source": [
        "import warnings\n",
        "warnings.filterwarnings('ignore')"
      ],
      "metadata": {
        "id": "SUrHkMi6NV2u",
        "execution": {
          "iopub.status.busy": "2022-03-17T19:24:05.093026Z",
          "iopub.execute_input": "2022-03-17T19:24:05.093782Z",
          "iopub.status.idle": "2022-03-17T19:24:05.097609Z",
          "shell.execute_reply.started": "2022-03-17T19:24:05.093739Z",
          "shell.execute_reply": "2022-03-17T19:24:05.096954Z"
        },
        "trusted": true
      },
      "execution_count": 2,
      "outputs": []
    },
    {
      "cell_type": "code",
      "source": [
        "# from fastai.vision.data import normalize\n",
        "path = \"/content/drive/MyDrive/Dataset/covid-19_dataset_grayscale\"\n",
        "np.random.seed(41)\n",
        "defaults = SimpleNamespace(cmap='L', return_fig=False, silent=False)\n",
        "data = ImageDataBunch.from_folder(path, train=\"Train\", valid =\"Valid\", valid_pct=0.2,ds_tfms=get_transforms(), size=(512,512), bs=16, num_workers=4)\n",
        "for itemList in [\"train_dl\", \"valid_dl\", \"fix_dl\", \"test_dl\"]:\n",
        "    itemList = getattr(data, itemList)\n",
        "    if itemList: itemList.x.convert_mode = \"L\""
      ],
      "metadata": {
        "id": "CQ3FJgcwNYTk",
        "execution": {
          "iopub.status.busy": "2022-03-17T19:24:09.409682Z",
          "iopub.execute_input": "2022-03-17T19:24:09.410255Z",
          "iopub.status.idle": "2022-03-17T19:24:10.864812Z",
          "shell.execute_reply.started": "2022-03-17T19:24:09.410220Z",
          "shell.execute_reply": "2022-03-17T19:24:10.863777Z"
        },
        "trusted": true
      },
      "execution_count": 6,
      "outputs": []
    },
    {
      "cell_type": "code",
      "source": [
        "print (data.one_batch()[0].shape)\n",
        "print (data.classes, data.c, len(data.train_ds), len(data.valid_ds))\n",
        "print (data.train_ds.classes)\n",
        "print (data.valid_ds.classes)"
      ],
      "metadata": {
        "id": "FM7QVE2MNwFU",
        "outputId": "fd8410c0-0658-47c9-d883-636e663829ef",
        "execution": {
          "iopub.status.busy": "2022-03-17T19:27:49.470643Z",
          "iopub.execute_input": "2022-03-17T19:27:49.470941Z",
          "iopub.status.idle": "2022-03-17T19:27:52.665269Z",
          "shell.execute_reply.started": "2022-03-17T19:27:49.470907Z",
          "shell.execute_reply": "2022-03-17T19:27:52.663667Z"
        },
        "trusted": true,
        "colab": {
          "base_uri": "https://localhost:8080/"
        }
      },
      "execution_count": 7,
      "outputs": [
        {
          "output_type": "stream",
          "name": "stdout",
          "text": [
            "torch.Size([16, 1, 512, 512])\n",
            "['covid-19', 'no_findings', 'pneumonia'] 3 900 225\n",
            "['covid-19', 'no_findings', 'pneumonia']\n",
            "['covid-19', 'no_findings', 'pneumonia']\n"
          ]
        }
      ]
    },
    {
      "cell_type": "code",
      "source": [
        "def fft_conv_block(ni, nf, size=3, stride=1):\n",
        "    for_pad = lambda s: s if s > 2 else 3\n",
        "    return nn.Sequential(\n",
        "        FFTConv2d(ni, nf, kernel_size=size, stride=stride,\n",
        "                  padding=(for_pad(size) - 1)//2, bias=False), \n",
        "        nn.BatchNorm2d(nf),\n",
        "        nn.LeakyReLU(negative_slope=0.1, inplace=True)  \n",
        "    )\n",
        "\n",
        "def conv_block(ni, nf, size=3, stride=1):\n",
        "    for_pad = lambda s: s if s > 2 else 3\n",
        "    return nn.Sequential(\n",
        "        nn.Conv2d(ni, nf, kernel_size=size, stride=stride,\n",
        "                  padding=(for_pad(size) - 1)//2, bias=False), \n",
        "        nn.BatchNorm2d(nf),\n",
        "        nn.LeakyReLU(negative_slope=0.1, inplace=True)  \n",
        "    )\n",
        "\n",
        "def triple_conv(ni, nf):\n",
        "    return nn.Sequential(\n",
        "        conv_block(ni, nf),\n",
        "        conv_block(nf, ni, size=1),  \n",
        "        conv_block(ni, nf)\n",
        "    )\n",
        "def fft_triple_conv(ni, nf,size):\n",
        "    return nn.Sequential(\n",
        "        fft_conv_block(ni, nf,size),\n",
        "        conv_block(nf, ni, size=1),  \n",
        "        fft_conv_block(ni, nf, size)\n",
        "    )\n",
        "def maxpooling():\n",
        "    return nn.MaxPool2d(2, stride=2)"
      ],
      "metadata": {
        "id": "ZBdMXQomN0Cu",
        "execution": {
          "iopub.status.busy": "2022-03-17T19:28:08.005947Z",
          "iopub.execute_input": "2022-03-17T19:28:08.006204Z",
          "iopub.status.idle": "2022-03-17T19:28:08.016291Z",
          "shell.execute_reply.started": "2022-03-17T19:28:08.006176Z",
          "shell.execute_reply": "2022-03-17T19:28:08.015290Z"
        },
        "trusted": true
      },
      "execution_count": null,
      "outputs": []
    },
    {
      "cell_type": "code",
      "source": [
        "fft_model3 = nn.Sequential(\n",
        "    fft_conv_block(1,8,21),\n",
        "    maxpooling(),\n",
        "    fft_conv_block(8,16,21),\n",
        "    maxpooling(),\n",
        "    triple_conv(16,32),\n",
        "    maxpooling(),\n",
        "    triple_conv(32, 64),\n",
        "    maxpooling(),\n",
        "    triple_conv(64, 128),\n",
        "    maxpooling(),\n",
        "    triple_conv(128, 256),\n",
        "    conv_block(256, 128, size=1),\n",
        "    conv_block(128, 256),\n",
        "    conv_block(256,3),\n",
        "    nn.Flatten(),\n",
        "    nn.Linear(1323, 3)\n",
        ")\n",
        "fft_learn3 = Learner(data, fft_model3, loss_func = nn.CrossEntropyLoss(), metrics=accuracy)\n",
        "print(fft_learn3.summary())\n",
        "fft_learn3.fit_one_cycle(100, max_lr=5e-3)\n",
        "probs,targets = fft_learn3.get_preds(ds_type=DatasetType.Valid) \n",
        "accuracy(probs,targets)\n",
        "# fft_learn3.recorder.plot_losses()"
      ],
      "metadata": {
        "id": "HyXwFdSkn9NN",
        "execution": {
          "iopub.status.busy": "2022-03-17T20:32:40.953913Z",
          "iopub.execute_input": "2022-03-17T20:32:40.954219Z",
          "iopub.status.idle": "2022-03-17T21:31:05.589497Z",
          "shell.execute_reply.started": "2022-03-17T20:32:40.954187Z",
          "shell.execute_reply": "2022-03-17T21:31:05.588557Z"
        },
        "trusted": true,
        "outputId": "c1045e11-e9b6-42d4-c587-943c79cfb4f5"
      },
      "execution_count": null,
      "outputs": [
        {
          "name": "stdout",
          "text": "Sequential\n======================================================================\nLayer (type)         Output Shape         Param #    Trainable \n======================================================================\n_FFTConv             [8, 512, 512]        3,528      True      \n______________________________________________________________________\nBatchNorm2d          [8, 512, 512]        16         True      \n______________________________________________________________________\nLeakyReLU            [8, 512, 512]        0          False     \n______________________________________________________________________\nMaxPool2d            [8, 256, 256]        0          False     \n______________________________________________________________________\n_FFTConv             [16, 256, 256]       56,448     True      \n______________________________________________________________________\nBatchNorm2d          [16, 256, 256]       32         True      \n______________________________________________________________________\nLeakyReLU            [16, 256, 256]       0          False     \n______________________________________________________________________\nMaxPool2d            [16, 128, 128]       0          False     \n______________________________________________________________________\nConv2d               [32, 128, 128]       4,608      True      \n______________________________________________________________________\nBatchNorm2d          [32, 128, 128]       64         True      \n______________________________________________________________________\nLeakyReLU            [32, 128, 128]       0          False     \n______________________________________________________________________\nConv2d               [16, 130, 130]       512        True      \n______________________________________________________________________\nBatchNorm2d          [16, 130, 130]       32         True      \n______________________________________________________________________\nLeakyReLU            [16, 130, 130]       0          False     \n______________________________________________________________________\nConv2d               [32, 130, 130]       4,608      True      \n______________________________________________________________________\nBatchNorm2d          [32, 130, 130]       64         True      \n______________________________________________________________________\nLeakyReLU            [32, 130, 130]       0          False     \n______________________________________________________________________\nMaxPool2d            [32, 65, 65]         0          False     \n______________________________________________________________________\nConv2d               [64, 65, 65]         18,432     True      \n______________________________________________________________________\nBatchNorm2d          [64, 65, 65]         128        True      \n______________________________________________________________________\nLeakyReLU            [64, 65, 65]         0          False     \n______________________________________________________________________\nConv2d               [32, 67, 67]         2,048      True      \n______________________________________________________________________\nBatchNorm2d          [32, 67, 67]         64         True      \n______________________________________________________________________\nLeakyReLU            [32, 67, 67]         0          False     \n______________________________________________________________________\nConv2d               [64, 67, 67]         18,432     True      \n______________________________________________________________________\nBatchNorm2d          [64, 67, 67]         128        True      \n______________________________________________________________________\nLeakyReLU            [64, 67, 67]         0          False     \n______________________________________________________________________\nMaxPool2d            [64, 33, 33]         0          False     \n______________________________________________________________________\nConv2d               [128, 33, 33]        73,728     True      \n______________________________________________________________________\nBatchNorm2d          [128, 33, 33]        256        True      \n______________________________________________________________________\nLeakyReLU            [128, 33, 33]        0          False     \n______________________________________________________________________\nConv2d               [64, 35, 35]         8,192      True      \n______________________________________________________________________\nBatchNorm2d          [64, 35, 35]         128        True      \n______________________________________________________________________\nLeakyReLU            [64, 35, 35]         0          False     \n______________________________________________________________________\nConv2d               [128, 35, 35]        73,728     True      \n______________________________________________________________________\nBatchNorm2d          [128, 35, 35]        256        True      \n______________________________________________________________________\nLeakyReLU            [128, 35, 35]        0          False     \n______________________________________________________________________\nMaxPool2d            [128, 17, 17]        0          False     \n______________________________________________________________________\nConv2d               [256, 17, 17]        294,912    True      \n______________________________________________________________________\nBatchNorm2d          [256, 17, 17]        512        True      \n______________________________________________________________________\nLeakyReLU            [256, 17, 17]        0          False     \n______________________________________________________________________\nConv2d               [128, 19, 19]        32,768     True      \n______________________________________________________________________\nBatchNorm2d          [128, 19, 19]        256        True      \n______________________________________________________________________\nLeakyReLU            [128, 19, 19]        0          False     \n______________________________________________________________________\nConv2d               [256, 19, 19]        294,912    True      \n______________________________________________________________________\nBatchNorm2d          [256, 19, 19]        512        True      \n______________________________________________________________________\nLeakyReLU            [256, 19, 19]        0          False     \n______________________________________________________________________\nConv2d               [128, 21, 21]        32,768     True      \n______________________________________________________________________\nBatchNorm2d          [128, 21, 21]        256        True      \n______________________________________________________________________\nLeakyReLU            [128, 21, 21]        0          False     \n______________________________________________________________________\nConv2d               [256, 21, 21]        294,912    True      \n______________________________________________________________________\nBatchNorm2d          [256, 21, 21]        512        True      \n______________________________________________________________________\nLeakyReLU            [256, 21, 21]        0          False     \n______________________________________________________________________\nConv2d               [3, 21, 21]          6,912      True      \n______________________________________________________________________\nBatchNorm2d          [3, 21, 21]          6          True      \n______________________________________________________________________\nLeakyReLU            [3, 21, 21]          0          False     \n______________________________________________________________________\nFlatten              [1323]               0          False     \n______________________________________________________________________\nLinear               [3]                  3,972      True      \n______________________________________________________________________\n\nTotal params: 1,228,642\nTotal trainable params: 1,228,642\nTotal non-trainable params: 0\nOptimized with 'torch.optim.adam.Adam', betas=(0.9, 0.99)\nUsing true weight decay as discussed in https://www.fast.ai/2018/07/02/adam-weight-decay/ \nLoss function : CrossEntropyLoss\n======================================================================\nCallbacks functions applied \n\n",
          "output_type": "stream"
        },
        {
          "output_type": "display_data",
          "data": {
            "text/plain": "<IPython.core.display.HTML object>",
            "text/html": "\n<style>\n    /* Turns off some styling */\n    progress {\n        /* gets rid of default border in Firefox and Opera. */\n        border: none;\n        /* Needs to be in here for Safari polyfill so background images work as expected. */\n        background-size: auto;\n    }\n    .progress-bar-interrupted, .progress-bar-interrupted::-webkit-progress-bar {\n        background: #F44336;\n    }\n</style>\n"
          },
          "metadata": {}
        },
        {
          "output_type": "display_data",
          "data": {
            "text/plain": "<IPython.core.display.HTML object>",
            "text/html": "<table border=\"1\" class=\"dataframe\">\n  <thead>\n    <tr style=\"text-align: left;\">\n      <th>epoch</th>\n      <th>train_loss</th>\n      <th>valid_loss</th>\n      <th>accuracy</th>\n      <th>time</th>\n    </tr>\n  </thead>\n  <tbody>\n    <tr>\n      <td>0</td>\n      <td>0.811395</td>\n      <td>0.673413</td>\n      <td>0.720000</td>\n      <td>00:35</td>\n    </tr>\n    <tr>\n      <td>1</td>\n      <td>0.724898</td>\n      <td>0.544044</td>\n      <td>0.773333</td>\n      <td>00:34</td>\n    </tr>\n    <tr>\n      <td>2</td>\n      <td>0.664768</td>\n      <td>0.779562</td>\n      <td>0.648889</td>\n      <td>00:34</td>\n    </tr>\n    <tr>\n      <td>3</td>\n      <td>0.644528</td>\n      <td>0.490324</td>\n      <td>0.786667</td>\n      <td>00:34</td>\n    </tr>\n    <tr>\n      <td>4</td>\n      <td>0.660232</td>\n      <td>0.576728</td>\n      <td>0.782222</td>\n      <td>00:35</td>\n    </tr>\n    <tr>\n      <td>5</td>\n      <td>0.651165</td>\n      <td>1.402030</td>\n      <td>0.497778</td>\n      <td>00:35</td>\n    </tr>\n    <tr>\n      <td>6</td>\n      <td>0.621650</td>\n      <td>0.704282</td>\n      <td>0.680000</td>\n      <td>00:34</td>\n    </tr>\n    <tr>\n      <td>7</td>\n      <td>0.640296</td>\n      <td>0.730283</td>\n      <td>0.702222</td>\n      <td>00:34</td>\n    </tr>\n    <tr>\n      <td>8</td>\n      <td>0.678760</td>\n      <td>0.713139</td>\n      <td>0.702222</td>\n      <td>00:34</td>\n    </tr>\n    <tr>\n      <td>9</td>\n      <td>0.713887</td>\n      <td>1.970317</td>\n      <td>0.551111</td>\n      <td>00:34</td>\n    </tr>\n    <tr>\n      <td>10</td>\n      <td>0.716264</td>\n      <td>0.982815</td>\n      <td>0.631111</td>\n      <td>00:34</td>\n    </tr>\n    <tr>\n      <td>11</td>\n      <td>0.736007</td>\n      <td>0.718996</td>\n      <td>0.684444</td>\n      <td>00:35</td>\n    </tr>\n    <tr>\n      <td>12</td>\n      <td>0.716804</td>\n      <td>1.011441</td>\n      <td>0.600000</td>\n      <td>00:35</td>\n    </tr>\n    <tr>\n      <td>13</td>\n      <td>0.695824</td>\n      <td>0.780579</td>\n      <td>0.680000</td>\n      <td>00:35</td>\n    </tr>\n    <tr>\n      <td>14</td>\n      <td>0.698200</td>\n      <td>0.789480</td>\n      <td>0.680000</td>\n      <td>00:34</td>\n    </tr>\n    <tr>\n      <td>15</td>\n      <td>0.701553</td>\n      <td>1.120297</td>\n      <td>0.515556</td>\n      <td>00:35</td>\n    </tr>\n    <tr>\n      <td>16</td>\n      <td>0.700591</td>\n      <td>0.938035</td>\n      <td>0.657778</td>\n      <td>00:35</td>\n    </tr>\n    <tr>\n      <td>17</td>\n      <td>0.718187</td>\n      <td>0.837563</td>\n      <td>0.653333</td>\n      <td>00:34</td>\n    </tr>\n    <tr>\n      <td>18</td>\n      <td>0.676155</td>\n      <td>0.747288</td>\n      <td>0.662222</td>\n      <td>00:35</td>\n    </tr>\n    <tr>\n      <td>19</td>\n      <td>0.679282</td>\n      <td>0.946587</td>\n      <td>0.604444</td>\n      <td>00:34</td>\n    </tr>\n    <tr>\n      <td>20</td>\n      <td>0.671768</td>\n      <td>0.629093</td>\n      <td>0.746667</td>\n      <td>00:34</td>\n    </tr>\n    <tr>\n      <td>21</td>\n      <td>0.733719</td>\n      <td>0.979495</td>\n      <td>0.586667</td>\n      <td>00:34</td>\n    </tr>\n    <tr>\n      <td>22</td>\n      <td>0.683190</td>\n      <td>0.492280</td>\n      <td>0.800000</td>\n      <td>00:35</td>\n    </tr>\n    <tr>\n      <td>23</td>\n      <td>0.659423</td>\n      <td>1.387801</td>\n      <td>0.560000</td>\n      <td>00:35</td>\n    </tr>\n    <tr>\n      <td>24</td>\n      <td>0.644240</td>\n      <td>0.531547</td>\n      <td>0.742222</td>\n      <td>00:35</td>\n    </tr>\n    <tr>\n      <td>25</td>\n      <td>0.622985</td>\n      <td>0.930083</td>\n      <td>0.702222</td>\n      <td>00:35</td>\n    </tr>\n    <tr>\n      <td>26</td>\n      <td>0.637696</td>\n      <td>1.037219</td>\n      <td>0.573333</td>\n      <td>00:35</td>\n    </tr>\n    <tr>\n      <td>27</td>\n      <td>0.642930</td>\n      <td>0.514350</td>\n      <td>0.768889</td>\n      <td>00:34</td>\n    </tr>\n    <tr>\n      <td>28</td>\n      <td>0.598373</td>\n      <td>0.833629</td>\n      <td>0.617778</td>\n      <td>00:34</td>\n    </tr>\n    <tr>\n      <td>29</td>\n      <td>0.619990</td>\n      <td>1.734018</td>\n      <td>0.582222</td>\n      <td>00:34</td>\n    </tr>\n    <tr>\n      <td>30</td>\n      <td>0.586931</td>\n      <td>0.500563</td>\n      <td>0.755556</td>\n      <td>00:34</td>\n    </tr>\n    <tr>\n      <td>31</td>\n      <td>0.614229</td>\n      <td>0.594737</td>\n      <td>0.733333</td>\n      <td>00:34</td>\n    </tr>\n    <tr>\n      <td>32</td>\n      <td>0.635067</td>\n      <td>0.450020</td>\n      <td>0.822222</td>\n      <td>00:37</td>\n    </tr>\n    <tr>\n      <td>33</td>\n      <td>0.603016</td>\n      <td>0.443107</td>\n      <td>0.800000</td>\n      <td>00:37</td>\n    </tr>\n    <tr>\n      <td>34</td>\n      <td>0.594596</td>\n      <td>0.531233</td>\n      <td>0.755556</td>\n      <td>00:35</td>\n    </tr>\n    <tr>\n      <td>35</td>\n      <td>0.576187</td>\n      <td>0.647579</td>\n      <td>0.715556</td>\n      <td>00:35</td>\n    </tr>\n    <tr>\n      <td>36</td>\n      <td>0.574544</td>\n      <td>0.439589</td>\n      <td>0.791111</td>\n      <td>00:35</td>\n    </tr>\n    <tr>\n      <td>37</td>\n      <td>0.585895</td>\n      <td>0.486433</td>\n      <td>0.777778</td>\n      <td>00:34</td>\n    </tr>\n    <tr>\n      <td>38</td>\n      <td>0.556696</td>\n      <td>0.598880</td>\n      <td>0.697778</td>\n      <td>00:35</td>\n    </tr>\n    <tr>\n      <td>39</td>\n      <td>0.573652</td>\n      <td>0.426352</td>\n      <td>0.817778</td>\n      <td>00:35</td>\n    </tr>\n    <tr>\n      <td>40</td>\n      <td>0.559572</td>\n      <td>0.438725</td>\n      <td>0.808889</td>\n      <td>00:35</td>\n    </tr>\n    <tr>\n      <td>41</td>\n      <td>0.581495</td>\n      <td>0.441380</td>\n      <td>0.786667</td>\n      <td>00:34</td>\n    </tr>\n    <tr>\n      <td>42</td>\n      <td>0.562197</td>\n      <td>0.466701</td>\n      <td>0.786667</td>\n      <td>00:34</td>\n    </tr>\n    <tr>\n      <td>43</td>\n      <td>0.553780</td>\n      <td>0.563912</td>\n      <td>0.711111</td>\n      <td>00:34</td>\n    </tr>\n    <tr>\n      <td>44</td>\n      <td>0.541591</td>\n      <td>0.641411</td>\n      <td>0.684444</td>\n      <td>00:34</td>\n    </tr>\n    <tr>\n      <td>45</td>\n      <td>0.547010</td>\n      <td>0.477533</td>\n      <td>0.768889</td>\n      <td>00:34</td>\n    </tr>\n    <tr>\n      <td>46</td>\n      <td>0.563162</td>\n      <td>0.415317</td>\n      <td>0.831111</td>\n      <td>00:34</td>\n    </tr>\n    <tr>\n      <td>47</td>\n      <td>0.544601</td>\n      <td>0.383987</td>\n      <td>0.808889</td>\n      <td>00:34</td>\n    </tr>\n    <tr>\n      <td>48</td>\n      <td>0.529322</td>\n      <td>0.462317</td>\n      <td>0.786667</td>\n      <td>00:35</td>\n    </tr>\n    <tr>\n      <td>49</td>\n      <td>0.527846</td>\n      <td>0.715840</td>\n      <td>0.662222</td>\n      <td>00:35</td>\n    </tr>\n    <tr>\n      <td>50</td>\n      <td>0.520829</td>\n      <td>0.484114</td>\n      <td>0.808889</td>\n      <td>00:35</td>\n    </tr>\n    <tr>\n      <td>51</td>\n      <td>0.493444</td>\n      <td>0.543423</td>\n      <td>0.764444</td>\n      <td>00:34</td>\n    </tr>\n    <tr>\n      <td>52</td>\n      <td>0.503528</td>\n      <td>0.363105</td>\n      <td>0.857778</td>\n      <td>00:34</td>\n    </tr>\n    <tr>\n      <td>53</td>\n      <td>0.496478</td>\n      <td>0.409896</td>\n      <td>0.822222</td>\n      <td>00:35</td>\n    </tr>\n    <tr>\n      <td>54</td>\n      <td>0.506391</td>\n      <td>0.529063</td>\n      <td>0.737778</td>\n      <td>00:34</td>\n    </tr>\n    <tr>\n      <td>55</td>\n      <td>0.513390</td>\n      <td>0.424846</td>\n      <td>0.795556</td>\n      <td>00:34</td>\n    </tr>\n    <tr>\n      <td>56</td>\n      <td>0.529513</td>\n      <td>0.497032</td>\n      <td>0.773333</td>\n      <td>00:33</td>\n    </tr>\n    <tr>\n      <td>57</td>\n      <td>0.506812</td>\n      <td>0.582972</td>\n      <td>0.751111</td>\n      <td>00:34</td>\n    </tr>\n    <tr>\n      <td>58</td>\n      <td>0.495300</td>\n      <td>0.392593</td>\n      <td>0.813333</td>\n      <td>00:34</td>\n    </tr>\n    <tr>\n      <td>59</td>\n      <td>0.486117</td>\n      <td>0.578951</td>\n      <td>0.720000</td>\n      <td>00:34</td>\n    </tr>\n    <tr>\n      <td>60</td>\n      <td>0.485160</td>\n      <td>0.433617</td>\n      <td>0.795556</td>\n      <td>00:34</td>\n    </tr>\n    <tr>\n      <td>61</td>\n      <td>0.477916</td>\n      <td>0.401879</td>\n      <td>0.817778</td>\n      <td>00:34</td>\n    </tr>\n    <tr>\n      <td>62</td>\n      <td>0.481621</td>\n      <td>0.394724</td>\n      <td>0.840000</td>\n      <td>00:34</td>\n    </tr>\n    <tr>\n      <td>63</td>\n      <td>0.479996</td>\n      <td>0.410851</td>\n      <td>0.817778</td>\n      <td>00:34</td>\n    </tr>\n    <tr>\n      <td>64</td>\n      <td>0.440681</td>\n      <td>0.381909</td>\n      <td>0.826667</td>\n      <td>00:35</td>\n    </tr>\n    <tr>\n      <td>65</td>\n      <td>0.464371</td>\n      <td>0.403734</td>\n      <td>0.822222</td>\n      <td>00:35</td>\n    </tr>\n    <tr>\n      <td>66</td>\n      <td>0.465490</td>\n      <td>0.452801</td>\n      <td>0.786667</td>\n      <td>00:34</td>\n    </tr>\n    <tr>\n      <td>67</td>\n      <td>0.434581</td>\n      <td>0.329585</td>\n      <td>0.871111</td>\n      <td>00:35</td>\n    </tr>\n    <tr>\n      <td>68</td>\n      <td>0.460283</td>\n      <td>0.417584</td>\n      <td>0.822222</td>\n      <td>00:34</td>\n    </tr>\n    <tr>\n      <td>69</td>\n      <td>0.450663</td>\n      <td>0.329939</td>\n      <td>0.875556</td>\n      <td>00:34</td>\n    </tr>\n    <tr>\n      <td>70</td>\n      <td>0.465510</td>\n      <td>0.380287</td>\n      <td>0.840000</td>\n      <td>00:34</td>\n    </tr>\n    <tr>\n      <td>71</td>\n      <td>0.461147</td>\n      <td>0.409883</td>\n      <td>0.804444</td>\n      <td>00:35</td>\n    </tr>\n    <tr>\n      <td>72</td>\n      <td>0.450381</td>\n      <td>0.441267</td>\n      <td>0.826667</td>\n      <td>00:34</td>\n    </tr>\n    <tr>\n      <td>73</td>\n      <td>0.456983</td>\n      <td>0.465198</td>\n      <td>0.804444</td>\n      <td>00:34</td>\n    </tr>\n    <tr>\n      <td>74</td>\n      <td>0.449863</td>\n      <td>0.334649</td>\n      <td>0.862222</td>\n      <td>00:34</td>\n    </tr>\n    <tr>\n      <td>75</td>\n      <td>0.439118</td>\n      <td>0.363640</td>\n      <td>0.853333</td>\n      <td>00:34</td>\n    </tr>\n    <tr>\n      <td>76</td>\n      <td>0.428244</td>\n      <td>0.395181</td>\n      <td>0.835556</td>\n      <td>00:34</td>\n    </tr>\n    <tr>\n      <td>77</td>\n      <td>0.437534</td>\n      <td>0.378997</td>\n      <td>0.813333</td>\n      <td>00:35</td>\n    </tr>\n    <tr>\n      <td>78</td>\n      <td>0.442420</td>\n      <td>0.362356</td>\n      <td>0.831111</td>\n      <td>00:34</td>\n    </tr>\n    <tr>\n      <td>79</td>\n      <td>0.417175</td>\n      <td>0.360775</td>\n      <td>0.822222</td>\n      <td>00:34</td>\n    </tr>\n    <tr>\n      <td>80</td>\n      <td>0.413151</td>\n      <td>0.392854</td>\n      <td>0.844444</td>\n      <td>00:34</td>\n    </tr>\n    <tr>\n      <td>81</td>\n      <td>0.418856</td>\n      <td>0.351088</td>\n      <td>0.866667</td>\n      <td>00:34</td>\n    </tr>\n    <tr>\n      <td>82</td>\n      <td>0.407489</td>\n      <td>0.357334</td>\n      <td>0.844444</td>\n      <td>00:34</td>\n    </tr>\n    <tr>\n      <td>83</td>\n      <td>0.410059</td>\n      <td>0.351325</td>\n      <td>0.871111</td>\n      <td>00:34</td>\n    </tr>\n    <tr>\n      <td>84</td>\n      <td>0.400997</td>\n      <td>0.349673</td>\n      <td>0.857778</td>\n      <td>00:34</td>\n    </tr>\n    <tr>\n      <td>85</td>\n      <td>0.394685</td>\n      <td>0.349698</td>\n      <td>0.862222</td>\n      <td>00:35</td>\n    </tr>\n    <tr>\n      <td>86</td>\n      <td>0.405453</td>\n      <td>0.341735</td>\n      <td>0.853333</td>\n      <td>00:34</td>\n    </tr>\n    <tr>\n      <td>87</td>\n      <td>0.403783</td>\n      <td>0.345804</td>\n      <td>0.848889</td>\n      <td>00:35</td>\n    </tr>\n    <tr>\n      <td>88</td>\n      <td>0.400094</td>\n      <td>0.354956</td>\n      <td>0.866667</td>\n      <td>00:35</td>\n    </tr>\n    <tr>\n      <td>89</td>\n      <td>0.379160</td>\n      <td>0.338154</td>\n      <td>0.862222</td>\n      <td>00:34</td>\n    </tr>\n    <tr>\n      <td>90</td>\n      <td>0.375110</td>\n      <td>0.330753</td>\n      <td>0.862222</td>\n      <td>00:34</td>\n    </tr>\n    <tr>\n      <td>91</td>\n      <td>0.376515</td>\n      <td>0.348053</td>\n      <td>0.857778</td>\n      <td>00:34</td>\n    </tr>\n    <tr>\n      <td>92</td>\n      <td>0.381491</td>\n      <td>0.347890</td>\n      <td>0.866667</td>\n      <td>00:34</td>\n    </tr>\n    <tr>\n      <td>93</td>\n      <td>0.369379</td>\n      <td>0.347475</td>\n      <td>0.866667</td>\n      <td>00:34</td>\n    </tr>\n    <tr>\n      <td>94</td>\n      <td>0.385652</td>\n      <td>0.350314</td>\n      <td>0.866667</td>\n      <td>00:35</td>\n    </tr>\n    <tr>\n      <td>95</td>\n      <td>0.371303</td>\n      <td>0.357906</td>\n      <td>0.862222</td>\n      <td>00:34</td>\n    </tr>\n    <tr>\n      <td>96</td>\n      <td>0.364895</td>\n      <td>0.354861</td>\n      <td>0.862222</td>\n      <td>00:34</td>\n    </tr>\n    <tr>\n      <td>97</td>\n      <td>0.384432</td>\n      <td>0.350222</td>\n      <td>0.866667</td>\n      <td>00:34</td>\n    </tr>\n    <tr>\n      <td>98</td>\n      <td>0.385623</td>\n      <td>0.344306</td>\n      <td>0.866667</td>\n      <td>00:34</td>\n    </tr>\n    <tr>\n      <td>99</td>\n      <td>0.404364</td>\n      <td>0.352556</td>\n      <td>0.866667</td>\n      <td>00:34</td>\n    </tr>\n  </tbody>\n</table>"
          },
          "metadata": {}
        },
        {
          "output_type": "display_data",
          "data": {
            "text/plain": "<IPython.core.display.HTML object>",
            "text/html": "\n<style>\n    /* Turns off some styling */\n    progress {\n        /* gets rid of default border in Firefox and Opera. */\n        border: none;\n        /* Needs to be in here for Safari polyfill so background images work as expected. */\n        background-size: auto;\n    }\n    .progress-bar-interrupted, .progress-bar-interrupted::-webkit-progress-bar {\n        background: #F44336;\n    }\n</style>\n"
          },
          "metadata": {}
        },
        {
          "output_type": "display_data",
          "data": {
            "text/plain": "<IPython.core.display.HTML object>",
            "text/html": ""
          },
          "metadata": {}
        },
        {
          "execution_count": 10,
          "output_type": "execute_result",
          "data": {
            "text/plain": "tensor(0.8667)"
          },
          "metadata": {}
        }
      ]
    }
  ]
}