{
  "metadata": {
    "kernelspec": {
      "language": "python",
      "display_name": "Python 3",
      "name": "python3"
    },
    "language_info": {
      "name": "python",
      "version": "3.7.12",
      "mimetype": "text/x-python",
      "codemirror_mode": {
        "name": "ipython",
        "version": 3
      },
      "pygments_lexer": "ipython3",
      "nbconvert_exporter": "python",
      "file_extension": ".py"
    },
    "colab": {
      "name": "Covid-19_1FFC_Success.ipynb",
      "provenance": [],
      "collapsed_sections": []
    }
  },
  "nbformat_minor": 0,
  "nbformat": 4,
  "cells": [
    {
      "cell_type": "code",
      "source": [
        "%reload_ext autoreload\n",
        "%autoreload 2\n",
        "%matplotlib inline"
      ],
      "metadata": {
        "id": "Ggtu0DDwMzjB"
      },
      "execution_count": null,
      "outputs": []
    },
    {
      "cell_type": "code",
      "source": [
        "!pip install fastai==1.0.61\n",
        "!pip install torchsummary"
      ],
      "metadata": {
        "execution": {
          "iopub.status.busy": "2022-03-15T03:21:29.372376Z",
          "iopub.execute_input": "2022-03-15T03:21:29.372641Z",
          "iopub.status.idle": "2022-03-15T03:21:57.974238Z",
          "shell.execute_reply.started": "2022-03-15T03:21:29.372605Z",
          "shell.execute_reply": "2022-03-15T03:21:57.973386Z"
        },
        "trusted": true,
        "id": "-bauy9SI2ppS",
        "outputId": "c21da362-a562-4b88-b335-18ddd9161a6b"
      },
      "execution_count": null,
      "outputs": [
        {
          "name": "stdout",
          "text": "Collecting fastai==1.0.61\n  Downloading fastai-1.0.61-py3-none-any.whl (239 kB)\n     |████████████████████████████████| 239 kB 802 kB/s            \n\u001b[?25hRequirement already satisfied: numpy>=1.15 in /opt/conda/lib/python3.7/site-packages (from fastai==1.0.61) (1.20.3)\nRequirement already satisfied: pandas in /opt/conda/lib/python3.7/site-packages (from fastai==1.0.61) (1.3.5)\nRequirement already satisfied: numexpr in /opt/conda/lib/python3.7/site-packages (from fastai==1.0.61) (2.8.1)\nRequirement already satisfied: beautifulsoup4 in /opt/conda/lib/python3.7/site-packages (from fastai==1.0.61) (4.10.0)\nRequirement already satisfied: Pillow in /opt/conda/lib/python3.7/site-packages (from fastai==1.0.61) (8.2.0)\nRequirement already satisfied: pyyaml in /opt/conda/lib/python3.7/site-packages (from fastai==1.0.61) (6.0)\nRequirement already satisfied: requests in /opt/conda/lib/python3.7/site-packages (from fastai==1.0.61) (2.26.0)\nRequirement already satisfied: scipy in /opt/conda/lib/python3.7/site-packages (from fastai==1.0.61) (1.7.3)\nRequirement already satisfied: bottleneck in /opt/conda/lib/python3.7/site-packages (from fastai==1.0.61) (1.3.2)\nRequirement already satisfied: packaging in /opt/conda/lib/python3.7/site-packages (from fastai==1.0.61) (21.3)\nRequirement already satisfied: torch>=1.0.0 in /opt/conda/lib/python3.7/site-packages (from fastai==1.0.61) (1.9.1)\nRequirement already satisfied: spacy>=2.0.18 in /opt/conda/lib/python3.7/site-packages (from fastai==1.0.61) (3.2.2)\nRequirement already satisfied: torchvision in /opt/conda/lib/python3.7/site-packages (from fastai==1.0.61) (0.10.1)\nRequirement already satisfied: matplotlib in /opt/conda/lib/python3.7/site-packages (from fastai==1.0.61) (3.5.1)\nCollecting nvidia-ml-py3\n  Downloading nvidia-ml-py3-7.352.0.tar.gz (19 kB)\n  Preparing metadata (setup.py) ... \u001b[?25ldone\n\u001b[?25hRequirement already satisfied: fastprogress>=0.2.1 in /opt/conda/lib/python3.7/site-packages (from fastai==1.0.61) (1.0.2)\nRequirement already satisfied: setuptools in /opt/conda/lib/python3.7/site-packages (from spacy>=2.0.18->fastai==1.0.61) (59.5.0)\nRequirement already satisfied: langcodes<4.0.0,>=3.2.0 in /opt/conda/lib/python3.7/site-packages (from spacy>=2.0.18->fastai==1.0.61) (3.3.0)\nRequirement already satisfied: typer<0.5.0,>=0.3.0 in /opt/conda/lib/python3.7/site-packages (from spacy>=2.0.18->fastai==1.0.61) (0.4.0)\nRequirement already satisfied: wasabi<1.1.0,>=0.8.1 in /opt/conda/lib/python3.7/site-packages (from spacy>=2.0.18->fastai==1.0.61) (0.9.0)\nCollecting typing-extensions<4.0.0.0,>=3.7.4\n  Downloading typing_extensions-3.10.0.2-py3-none-any.whl (26 kB)\nRequirement already satisfied: srsly<3.0.0,>=2.4.1 in /opt/conda/lib/python3.7/site-packages (from spacy>=2.0.18->fastai==1.0.61) (2.4.2)\nRequirement already satisfied: pydantic!=1.8,!=1.8.1,<1.9.0,>=1.7.4 in /opt/conda/lib/python3.7/site-packages (from spacy>=2.0.18->fastai==1.0.61) (1.8.2)\nRequirement already satisfied: pathy>=0.3.5 in /opt/conda/lib/python3.7/site-packages (from spacy>=2.0.18->fastai==1.0.61) (0.6.1)\nRequirement already satisfied: preshed<3.1.0,>=3.0.2 in /opt/conda/lib/python3.7/site-packages (from spacy>=2.0.18->fastai==1.0.61) (3.0.6)\nRequirement already satisfied: thinc<8.1.0,>=8.0.12 in /opt/conda/lib/python3.7/site-packages (from spacy>=2.0.18->fastai==1.0.61) (8.0.13)\nRequirement already satisfied: catalogue<2.1.0,>=2.0.6 in /opt/conda/lib/python3.7/site-packages (from spacy>=2.0.18->fastai==1.0.61) (2.0.6)\nRequirement already satisfied: tqdm<5.0.0,>=4.38.0 in /opt/conda/lib/python3.7/site-packages (from spacy>=2.0.18->fastai==1.0.61) (4.62.3)\nRequirement already satisfied: spacy-legacy<3.1.0,>=3.0.8 in /opt/conda/lib/python3.7/site-packages (from spacy>=2.0.18->fastai==1.0.61) (3.0.9)\nRequirement already satisfied: cymem<2.1.0,>=2.0.2 in /opt/conda/lib/python3.7/site-packages (from spacy>=2.0.18->fastai==1.0.61) (2.0.6)\nRequirement already satisfied: murmurhash<1.1.0,>=0.28.0 in /opt/conda/lib/python3.7/site-packages (from spacy>=2.0.18->fastai==1.0.61) (1.0.6)\nRequirement already satisfied: spacy-loggers<2.0.0,>=1.0.0 in /opt/conda/lib/python3.7/site-packages (from spacy>=2.0.18->fastai==1.0.61) (1.0.1)\nRequirement already satisfied: blis<0.8.0,>=0.4.0 in /opt/conda/lib/python3.7/site-packages (from spacy>=2.0.18->fastai==1.0.61) (0.7.5)\nRequirement already satisfied: jinja2 in /opt/conda/lib/python3.7/site-packages (from spacy>=2.0.18->fastai==1.0.61) (3.0.3)\nRequirement already satisfied: pyparsing!=3.0.5,>=2.0.2 in /opt/conda/lib/python3.7/site-packages (from packaging->fastai==1.0.61) (3.0.6)\nRequirement already satisfied: urllib3<1.27,>=1.21.1 in /opt/conda/lib/python3.7/site-packages (from requests->fastai==1.0.61) (1.26.7)\nRequirement already satisfied: idna<4,>=2.5 in /opt/conda/lib/python3.7/site-packages (from requests->fastai==1.0.61) (3.1)\nRequirement already satisfied: charset-normalizer~=2.0.0 in /opt/conda/lib/python3.7/site-packages (from requests->fastai==1.0.61) (2.0.9)\nRequirement already satisfied: certifi>=2017.4.17 in /opt/conda/lib/python3.7/site-packages (from requests->fastai==1.0.61) (2021.10.8)\nRequirement already satisfied: soupsieve>1.2 in /opt/conda/lib/python3.7/site-packages (from beautifulsoup4->fastai==1.0.61) (2.3.1)\nRequirement already satisfied: fonttools>=4.22.0 in /opt/conda/lib/python3.7/site-packages (from matplotlib->fastai==1.0.61) (4.28.4)\nRequirement already satisfied: kiwisolver>=1.0.1 in /opt/conda/lib/python3.7/site-packages (from matplotlib->fastai==1.0.61) (1.3.2)\nRequirement already satisfied: cycler>=0.10 in /opt/conda/lib/python3.7/site-packages (from matplotlib->fastai==1.0.61) (0.11.0)\nRequirement already satisfied: python-dateutil>=2.7 in /opt/conda/lib/python3.7/site-packages (from matplotlib->fastai==1.0.61) (2.8.2)\nRequirement already satisfied: pytz>=2017.3 in /opt/conda/lib/python3.7/site-packages (from pandas->fastai==1.0.61) (2021.3)\nRequirement already satisfied: zipp>=0.5 in /opt/conda/lib/python3.7/site-packages (from catalogue<2.1.0,>=2.0.6->spacy>=2.0.18->fastai==1.0.61) (3.6.0)\nRequirement already satisfied: smart-open<6.0.0,>=5.0.0 in /opt/conda/lib/python3.7/site-packages (from pathy>=0.3.5->spacy>=2.0.18->fastai==1.0.61) (5.2.1)\nRequirement already satisfied: six>=1.5 in /opt/conda/lib/python3.7/site-packages (from python-dateutil>=2.7->matplotlib->fastai==1.0.61) (1.16.0)\nRequirement already satisfied: click<9.0.0,>=7.1.1 in /opt/conda/lib/python3.7/site-packages (from typer<0.5.0,>=0.3.0->spacy>=2.0.18->fastai==1.0.61) (8.0.3)\nRequirement already satisfied: MarkupSafe>=2.0 in /opt/conda/lib/python3.7/site-packages (from jinja2->spacy>=2.0.18->fastai==1.0.61) (2.1.0)\nRequirement already satisfied: importlib-metadata in /opt/conda/lib/python3.7/site-packages (from click<9.0.0,>=7.1.1->typer<0.5.0,>=0.3.0->spacy>=2.0.18->fastai==1.0.61) (4.11.2)\nBuilding wheels for collected packages: nvidia-ml-py3\n  Building wheel for nvidia-ml-py3 (setup.py) ... \u001b[?25ldone\n\u001b[?25h  Created wheel for nvidia-ml-py3: filename=nvidia_ml_py3-7.352.0-py3-none-any.whl size=19191 sha256=db0f87e27b1a8553ae2b750457aac32499dd7f57c7b003608b409e6922667bdd\n  Stored in directory: /root/.cache/pip/wheels/df/99/da/c34f202dc8fd1dffd35e0ecf1a7d7f8374ca05fbcbaf974b83\nSuccessfully built nvidia-ml-py3\nInstalling collected packages: typing-extensions, nvidia-ml-py3, fastai\n  Attempting uninstall: typing-extensions\n    Found existing installation: typing-extensions 4.1.1\n    Uninstalling typing-extensions-4.1.1:\n      Successfully uninstalled typing-extensions-4.1.1\n  Attempting uninstall: fastai\n    Found existing installation: fastai 2.5.3\n    Uninstalling fastai-2.5.3:\n      Successfully uninstalled fastai-2.5.3\n\u001b[31mERROR: pip's dependency resolver does not currently take into account all the packages that are installed. This behaviour is the source of the following dependency conflicts.\ntensorflow-io 0.21.0 requires tensorflow-io-gcs-filesystem==0.21.0, which is not installed.\nexplainable-ai-sdk 1.3.2 requires xai-image-widget, which is not installed.\ntensorflow 2.6.2 requires numpy~=1.19.2, but you have numpy 1.20.3 which is incompatible.\ntensorflow 2.6.2 requires six~=1.15.0, but you have six 1.16.0 which is incompatible.\ntensorflow 2.6.2 requires typing-extensions~=3.7.4, but you have typing-extensions 3.10.0.2 which is incompatible.\ntensorflow 2.6.2 requires wrapt~=1.12.1, but you have wrapt 1.13.3 which is incompatible.\ntensorflow-transform 1.5.0 requires absl-py<0.13,>=0.9, but you have absl-py 0.15.0 which is incompatible.\ntensorflow-transform 1.5.0 requires numpy<1.20,>=1.16, but you have numpy 1.20.3 which is incompatible.\ntensorflow-transform 1.5.0 requires pyarrow<6,>=1, but you have pyarrow 6.0.1 which is incompatible.\ntensorflow-transform 1.5.0 requires tensorflow!=2.0.*,!=2.1.*,!=2.2.*,!=2.3.*,!=2.4.*,!=2.5.*,!=2.6.*,<2.8,>=1.15.2, but you have tensorflow 2.6.2 which is incompatible.\ntensorflow-serving-api 2.7.0 requires tensorflow<3,>=2.7.0, but you have tensorflow 2.6.2 which is incompatible.\nflake8 4.0.1 requires importlib-metadata<4.3; python_version < \"3.8\", but you have importlib-metadata 4.11.2 which is incompatible.\napache-beam 2.34.0 requires dill<0.3.2,>=0.3.1.1, but you have dill 0.3.4 which is incompatible.\napache-beam 2.34.0 requires httplib2<0.20.0,>=0.8, but you have httplib2 0.20.2 which is incompatible.\napache-beam 2.34.0 requires pyarrow<6.0.0,>=0.15.1, but you have pyarrow 6.0.1 which is incompatible.\naioitertools 0.10.0 requires typing_extensions>=4.0; python_version < \"3.10\", but you have typing-extensions 3.10.0.2 which is incompatible.\naiobotocore 2.1.1 requires botocore<1.23.25,>=1.23.24, but you have botocore 1.24.8 which is incompatible.\u001b[0m\nSuccessfully installed fastai-1.0.61 nvidia-ml-py3-7.352.0 typing-extensions-3.10.0.2\n\u001b[33mWARNING: Running pip as the 'root' user can result in broken permissions and conflicting behaviour with the system package manager. It is recommended to use a virtual environment instead: https://pip.pypa.io/warnings/venv\u001b[0m\nCollecting torchsummary\n  Downloading torchsummary-1.5.1-py3-none-any.whl (2.8 kB)\nInstalling collected packages: torchsummary\nSuccessfully installed torchsummary-1.5.1\n\u001b[33mWARNING: Running pip as the 'root' user can result in broken permissions and conflicting behaviour with the system package manager. It is recommended to use a virtual environment instead: https://pip.pypa.io/warnings/venv\u001b[0m\n",
          "output_type": "stream"
        }
      ]
    },
    {
      "cell_type": "code",
      "source": [
        "import torch.nn as nn\n",
        "import torch.nn.functional as F\n",
        "import torch\n",
        "# from google.colab import drive\n",
        "# drive.mount('/content/drive')\n",
        "from glob import glob\n",
        "import torchvision\n",
        "import torchvision.transforms as transforms\n",
        "import torchvision.datasets as datasets\n",
        "from torchsummary import summary\n",
        "from fastai.metrics import accuracy\n",
        "from fastai.vision import *\n",
        "import numpy as np\n",
        "!pip install fft-conv-pytorch\n",
        "from fft_conv_pytorch import fft_conv, FFTConv2d"
      ],
      "metadata": {
        "id": "zMLxNfecNGPJ",
        "outputId": "f169454d-8607-4e91-ee31-1b8dd2efd20e",
        "execution": {
          "iopub.status.busy": "2022-03-15T03:22:32.707244Z",
          "iopub.execute_input": "2022-03-15T03:22:32.707835Z",
          "iopub.status.idle": "2022-03-15T03:22:43.384641Z",
          "shell.execute_reply.started": "2022-03-15T03:22:32.707801Z",
          "shell.execute_reply": "2022-03-15T03:22:43.383761Z"
        },
        "trusted": true
      },
      "execution_count": null,
      "outputs": [
        {
          "name": "stdout",
          "text": "Collecting fft-conv-pytorch\n  Downloading fft_conv_pytorch-1.1.3-py3-none-any.whl (6.6 kB)\nRequirement already satisfied: torch>=1.8 in /opt/conda/lib/python3.7/site-packages (from fft-conv-pytorch) (1.9.1)\nRequirement already satisfied: numpy in /opt/conda/lib/python3.7/site-packages (from fft-conv-pytorch) (1.20.3)\nRequirement already satisfied: typing-extensions in /opt/conda/lib/python3.7/site-packages (from torch>=1.8->fft-conv-pytorch) (3.10.0.2)\nInstalling collected packages: fft-conv-pytorch\nSuccessfully installed fft-conv-pytorch-1.1.3\n\u001b[33mWARNING: Running pip as the 'root' user can result in broken permissions and conflicting behaviour with the system package manager. It is recommended to use a virtual environment instead: https://pip.pypa.io/warnings/venv\u001b[0m\n",
          "output_type": "stream"
        }
      ]
    },
    {
      "cell_type": "code",
      "source": [
        "import warnings\n",
        "warnings.filterwarnings('ignore')"
      ],
      "metadata": {
        "id": "SUrHkMi6NV2u",
        "execution": {
          "iopub.status.busy": "2022-03-15T03:22:45.696466Z",
          "iopub.execute_input": "2022-03-15T03:22:45.696805Z",
          "iopub.status.idle": "2022-03-15T03:22:45.706204Z",
          "shell.execute_reply.started": "2022-03-15T03:22:45.696768Z",
          "shell.execute_reply": "2022-03-15T03:22:45.705461Z"
        },
        "trusted": true
      },
      "execution_count": null,
      "outputs": []
    },
    {
      "cell_type": "code",
      "source": [
        "from fastai.vision.data import normalize\n",
        "path = \"../input/covid19grayscaleds/covid-19_dataset_grayscale\"\n",
        "np.random.seed(41)\n",
        "defaults = SimpleNamespace(cmap='L', return_fig=False, silent=False)\n",
        "data = ImageDataBunch.from_folder(path, train=\"Train\", valid =\"Valid\", valid_pct=0.2,ds_tfms=get_transforms(), size=(256,256), bs=16, num_workers=4)\n",
        "for itemList in [\"train_dl\", \"valid_dl\", \"fix_dl\", \"test_dl\"]:\n",
        "    itemList = getattr(data, itemList)\n",
        "    if itemList: itemList.x.convert_mode = \"L\""
      ],
      "metadata": {
        "id": "CQ3FJgcwNYTk",
        "execution": {
          "iopub.status.busy": "2022-03-15T03:22:47.912118Z",
          "iopub.execute_input": "2022-03-15T03:22:47.912811Z",
          "iopub.status.idle": "2022-03-15T03:22:49.820280Z",
          "shell.execute_reply.started": "2022-03-15T03:22:47.912773Z",
          "shell.execute_reply": "2022-03-15T03:22:49.819490Z"
        },
        "trusted": true
      },
      "execution_count": null,
      "outputs": []
    },
    {
      "cell_type": "code",
      "source": [
        "print (data.one_batch()[0].shape)\n",
        "print (data.classes, data.c, len(data.train_ds), len(data.valid_ds))\n",
        "print (data.train_ds.classes)\n",
        "print (data.valid_ds.classes)"
      ],
      "metadata": {
        "id": "FM7QVE2MNwFU",
        "outputId": "9e9f5857-45e8-45b6-bcf5-ee579b78d29b",
        "execution": {
          "iopub.status.busy": "2022-03-15T03:22:52.397847Z",
          "iopub.execute_input": "2022-03-15T03:22:52.398400Z",
          "iopub.status.idle": "2022-03-15T03:22:55.704164Z",
          "shell.execute_reply.started": "2022-03-15T03:22:52.398362Z",
          "shell.execute_reply": "2022-03-15T03:22:55.703423Z"
        },
        "trusted": true
      },
      "execution_count": null,
      "outputs": [
        {
          "name": "stdout",
          "text": "torch.Size([16, 1, 256, 256])\n['covid-19', 'no_findings', 'pneumonia'] 3 900 225\n['covid-19', 'no_findings', 'pneumonia']\n['covid-19', 'no_findings', 'pneumonia']\n",
          "output_type": "stream"
        }
      ]
    },
    {
      "cell_type": "markdown",
      "source": [
        "With FFT Conv Layers"
      ],
      "metadata": {
        "id": "p1L7CtuQlm2r"
      }
    },
    {
      "cell_type": "code",
      "source": [
        "def fft_conv_block(ni, nf, size=3, stride=1):\n",
        "    for_pad = lambda s: s if s > 2 else 3\n",
        "    return nn.Sequential(\n",
        "        FFTConv2d(ni, nf, kernel_size=size, stride=stride,\n",
        "                  padding=(for_pad(size) - 1)//2, bias=False), \n",
        "        nn.BatchNorm2d(nf),\n",
        "        nn.LeakyReLU(negative_slope=0.1, inplace=True)  \n",
        "    )\n",
        "\n",
        "def conv_block(ni, nf, size=3, stride=1):\n",
        "    for_pad = lambda s: s if s > 2 else 3\n",
        "    return nn.Sequential(\n",
        "        nn.Conv2d(ni, nf, kernel_size=size, stride=stride,\n",
        "                  padding=(for_pad(size) - 1)//2, bias=False), \n",
        "        nn.BatchNorm2d(nf),\n",
        "        nn.LeakyReLU(negative_slope=0.1, inplace=True)  \n",
        "    )\n",
        "\n",
        "def triple_conv(ni, nf):\n",
        "    return nn.Sequential(\n",
        "        conv_block(ni, nf),\n",
        "        conv_block(nf, ni, size=1),  \n",
        "        conv_block(ni, nf)\n",
        "    )\n",
        "def fft_triple_conv(ni, nf,size):\n",
        "    return nn.Sequential(\n",
        "        fft_conv_block(ni, nf,size),\n",
        "        conv_block(nf, ni, size=1),  \n",
        "        fft_conv_block(ni, nf, size)\n",
        "    )\n",
        "def maxpooling():\n",
        "    return nn.MaxPool2d(2, stride=2)"
      ],
      "metadata": {
        "id": "ZBdMXQomN0Cu",
        "execution": {
          "iopub.status.busy": "2022-03-15T03:22:59.736629Z",
          "iopub.execute_input": "2022-03-15T03:22:59.736890Z",
          "iopub.status.idle": "2022-03-15T03:22:59.746853Z",
          "shell.execute_reply.started": "2022-03-15T03:22:59.736860Z",
          "shell.execute_reply": "2022-03-15T03:22:59.746148Z"
        },
        "trusted": true
      },
      "execution_count": null,
      "outputs": []
    },
    {
      "cell_type": "code",
      "source": [
        "fft_model4 = nn.Sequential(\n",
        "    fft_conv_block(1, 8, 25),\n",
        "    maxpooling(),\n",
        "    conv_block(8, 16),\n",
        "    maxpooling(),\n",
        "    triple_conv(16,32),\n",
        "    maxpooling(),\n",
        "    triple_conv(32, 64),\n",
        "    maxpooling(),\n",
        "    triple_conv(64, 128),\n",
        "    maxpooling(),\n",
        "    triple_conv(128, 256),\n",
        "    conv_block(256, 128, size=1),\n",
        "    conv_block(128, 256),\n",
        "    conv_block(256,3),\n",
        "    nn.Flatten(),\n",
        "    nn.Linear(1323, 3)\n",
        ")\n",
        "fft_learn4 = Learner(data, fft_model4, loss_func = nn.CrossEntropyLoss(), metrics=accuracy)\n",
        "print(fft_learn4.summary())\n",
        "fft_learn4.fit_one_cycle(100, max_lr=4e-3)\n",
        "probs,targets = fft_learn4.get_preds(ds_type=DatasetType.Valid) \n",
        "accuracy(probs,targets)"
      ],
      "metadata": {
        "execution": {
          "iopub.status.busy": "2022-03-15T06:55:00.977628Z",
          "iopub.execute_input": "2022-03-15T06:55:00.977914Z",
          "iopub.status.idle": "2022-03-15T07:50:23.628882Z",
          "shell.execute_reply.started": "2022-03-15T06:55:00.977885Z",
          "shell.execute_reply": "2022-03-15T07:50:23.627950Z"
        },
        "trusted": true,
        "id": "IqtHnOXu2ppZ",
        "outputId": "0824e171-ade4-4bf8-8780-f7ebbce5bec9"
      },
      "execution_count": null,
      "outputs": [
        {
          "name": "stdout",
          "text": "Sequential\n======================================================================\nLayer (type)         Output Shape         Param #    Trainable \n======================================================================\n_FFTConv             [8, 512, 512]        5,000      True      \n______________________________________________________________________\nBatchNorm2d          [8, 512, 512]        16         True      \n______________________________________________________________________\nLeakyReLU            [8, 512, 512]        0          False     \n______________________________________________________________________\nMaxPool2d            [8, 256, 256]        0          False     \n______________________________________________________________________\nConv2d               [16, 256, 256]       1,152      True      \n______________________________________________________________________\nBatchNorm2d          [16, 256, 256]       32         True      \n______________________________________________________________________\nLeakyReLU            [16, 256, 256]       0          False     \n______________________________________________________________________\nMaxPool2d            [16, 128, 128]       0          False     \n______________________________________________________________________\nConv2d               [32, 128, 128]       4,608      True      \n______________________________________________________________________\nBatchNorm2d          [32, 128, 128]       64         True      \n______________________________________________________________________\nLeakyReLU            [32, 128, 128]       0          False     \n______________________________________________________________________\nConv2d               [16, 130, 130]       512        True      \n______________________________________________________________________\nBatchNorm2d          [16, 130, 130]       32         True      \n______________________________________________________________________\nLeakyReLU            [16, 130, 130]       0          False     \n______________________________________________________________________\nConv2d               [32, 130, 130]       4,608      True      \n______________________________________________________________________\nBatchNorm2d          [32, 130, 130]       64         True      \n______________________________________________________________________\nLeakyReLU            [32, 130, 130]       0          False     \n______________________________________________________________________\nMaxPool2d            [32, 65, 65]         0          False     \n______________________________________________________________________\nConv2d               [64, 65, 65]         18,432     True      \n______________________________________________________________________\nBatchNorm2d          [64, 65, 65]         128        True      \n______________________________________________________________________\nLeakyReLU            [64, 65, 65]         0          False     \n______________________________________________________________________\nConv2d               [32, 67, 67]         2,048      True      \n______________________________________________________________________\nBatchNorm2d          [32, 67, 67]         64         True      \n______________________________________________________________________\nLeakyReLU            [32, 67, 67]         0          False     \n______________________________________________________________________\nConv2d               [64, 67, 67]         18,432     True      \n______________________________________________________________________\nBatchNorm2d          [64, 67, 67]         128        True      \n______________________________________________________________________\nLeakyReLU            [64, 67, 67]         0          False     \n______________________________________________________________________\nMaxPool2d            [64, 33, 33]         0          False     \n______________________________________________________________________\nConv2d               [128, 33, 33]        73,728     True      \n______________________________________________________________________\nBatchNorm2d          [128, 33, 33]        256        True      \n______________________________________________________________________\nLeakyReLU            [128, 33, 33]        0          False     \n______________________________________________________________________\nConv2d               [64, 35, 35]         8,192      True      \n______________________________________________________________________\nBatchNorm2d          [64, 35, 35]         128        True      \n______________________________________________________________________\nLeakyReLU            [64, 35, 35]         0          False     \n______________________________________________________________________\nConv2d               [128, 35, 35]        73,728     True      \n______________________________________________________________________\nBatchNorm2d          [128, 35, 35]        256        True      \n______________________________________________________________________\nLeakyReLU            [128, 35, 35]        0          False     \n______________________________________________________________________\nMaxPool2d            [128, 17, 17]        0          False     \n______________________________________________________________________\nConv2d               [256, 17, 17]        294,912    True      \n______________________________________________________________________\nBatchNorm2d          [256, 17, 17]        512        True      \n______________________________________________________________________\nLeakyReLU            [256, 17, 17]        0          False     \n______________________________________________________________________\nConv2d               [128, 19, 19]        32,768     True      \n______________________________________________________________________\nBatchNorm2d          [128, 19, 19]        256        True      \n______________________________________________________________________\nLeakyReLU            [128, 19, 19]        0          False     \n______________________________________________________________________\nConv2d               [256, 19, 19]        294,912    True      \n______________________________________________________________________\nBatchNorm2d          [256, 19, 19]        512        True      \n______________________________________________________________________\nLeakyReLU            [256, 19, 19]        0          False     \n______________________________________________________________________\nConv2d               [128, 21, 21]        32,768     True      \n______________________________________________________________________\nBatchNorm2d          [128, 21, 21]        256        True      \n______________________________________________________________________\nLeakyReLU            [128, 21, 21]        0          False     \n______________________________________________________________________\nConv2d               [256, 21, 21]        294,912    True      \n______________________________________________________________________\nBatchNorm2d          [256, 21, 21]        512        True      \n______________________________________________________________________\nLeakyReLU            [256, 21, 21]        0          False     \n______________________________________________________________________\nConv2d               [3, 21, 21]          6,912      True      \n______________________________________________________________________\nBatchNorm2d          [3, 21, 21]          6          True      \n______________________________________________________________________\nLeakyReLU            [3, 21, 21]          0          False     \n______________________________________________________________________\nFlatten              [1323]               0          False     \n______________________________________________________________________\nLinear               [3]                  3,972      True      \n______________________________________________________________________\n\nTotal params: 1,174,818\nTotal trainable params: 1,174,818\nTotal non-trainable params: 0\nOptimized with 'torch.optim.adam.Adam', betas=(0.9, 0.99)\nUsing true weight decay as discussed in https://www.fast.ai/2018/07/02/adam-weight-decay/ \nLoss function : CrossEntropyLoss\n======================================================================\nCallbacks functions applied \n\n",
          "output_type": "stream"
        },
        {
          "output_type": "display_data",
          "data": {
            "text/plain": "<IPython.core.display.HTML object>",
            "text/html": "\n<style>\n    /* Turns off some styling */\n    progress {\n        /* gets rid of default border in Firefox and Opera. */\n        border: none;\n        /* Needs to be in here for Safari polyfill so background images work as expected. */\n        background-size: auto;\n    }\n    .progress-bar-interrupted, .progress-bar-interrupted::-webkit-progress-bar {\n        background: #F44336;\n    }\n</style>\n"
          },
          "metadata": {}
        },
        {
          "output_type": "display_data",
          "data": {
            "text/plain": "<IPython.core.display.HTML object>",
            "text/html": "<table border=\"1\" class=\"dataframe\">\n  <thead>\n    <tr style=\"text-align: left;\">\n      <th>epoch</th>\n      <th>train_loss</th>\n      <th>valid_loss</th>\n      <th>accuracy</th>\n      <th>time</th>\n    </tr>\n  </thead>\n  <tbody>\n    <tr>\n      <td>0</td>\n      <td>0.856709</td>\n      <td>0.668765</td>\n      <td>0.728889</td>\n      <td>00:33</td>\n    </tr>\n    <tr>\n      <td>1</td>\n      <td>0.735656</td>\n      <td>0.495665</td>\n      <td>0.831111</td>\n      <td>00:33</td>\n    </tr>\n    <tr>\n      <td>2</td>\n      <td>0.674400</td>\n      <td>0.525266</td>\n      <td>0.786667</td>\n      <td>00:33</td>\n    </tr>\n    <tr>\n      <td>3</td>\n      <td>0.666389</td>\n      <td>0.530127</td>\n      <td>0.737778</td>\n      <td>00:33</td>\n    </tr>\n    <tr>\n      <td>4</td>\n      <td>0.642623</td>\n      <td>0.745960</td>\n      <td>0.635556</td>\n      <td>00:32</td>\n    </tr>\n    <tr>\n      <td>5</td>\n      <td>0.640397</td>\n      <td>0.595539</td>\n      <td>0.724444</td>\n      <td>00:33</td>\n    </tr>\n    <tr>\n      <td>6</td>\n      <td>0.649613</td>\n      <td>0.628429</td>\n      <td>0.773333</td>\n      <td>00:33</td>\n    </tr>\n    <tr>\n      <td>7</td>\n      <td>0.669420</td>\n      <td>1.635563</td>\n      <td>0.488889</td>\n      <td>00:33</td>\n    </tr>\n    <tr>\n      <td>8</td>\n      <td>0.683828</td>\n      <td>0.610833</td>\n      <td>0.755556</td>\n      <td>00:33</td>\n    </tr>\n    <tr>\n      <td>9</td>\n      <td>0.632662</td>\n      <td>0.798651</td>\n      <td>0.595556</td>\n      <td>00:33</td>\n    </tr>\n    <tr>\n      <td>10</td>\n      <td>0.663746</td>\n      <td>0.723433</td>\n      <td>0.671111</td>\n      <td>00:33</td>\n    </tr>\n    <tr>\n      <td>11</td>\n      <td>0.686366</td>\n      <td>0.749642</td>\n      <td>0.622222</td>\n      <td>00:33</td>\n    </tr>\n    <tr>\n      <td>12</td>\n      <td>0.662323</td>\n      <td>0.716506</td>\n      <td>0.648889</td>\n      <td>00:33</td>\n    </tr>\n    <tr>\n      <td>13</td>\n      <td>0.674479</td>\n      <td>0.497832</td>\n      <td>0.804444</td>\n      <td>00:33</td>\n    </tr>\n    <tr>\n      <td>14</td>\n      <td>0.657888</td>\n      <td>0.605959</td>\n      <td>0.760000</td>\n      <td>00:33</td>\n    </tr>\n    <tr>\n      <td>15</td>\n      <td>0.653427</td>\n      <td>0.732539</td>\n      <td>0.666667</td>\n      <td>00:33</td>\n    </tr>\n    <tr>\n      <td>16</td>\n      <td>0.618382</td>\n      <td>0.617811</td>\n      <td>0.702222</td>\n      <td>00:32</td>\n    </tr>\n    <tr>\n      <td>17</td>\n      <td>0.643282</td>\n      <td>0.719547</td>\n      <td>0.715556</td>\n      <td>00:33</td>\n    </tr>\n    <tr>\n      <td>18</td>\n      <td>0.682328</td>\n      <td>1.049583</td>\n      <td>0.551111</td>\n      <td>00:32</td>\n    </tr>\n    <tr>\n      <td>19</td>\n      <td>0.680167</td>\n      <td>0.480379</td>\n      <td>0.760000</td>\n      <td>00:33</td>\n    </tr>\n    <tr>\n      <td>20</td>\n      <td>0.656568</td>\n      <td>0.481442</td>\n      <td>0.782222</td>\n      <td>00:33</td>\n    </tr>\n    <tr>\n      <td>21</td>\n      <td>0.633740</td>\n      <td>0.579300</td>\n      <td>0.760000</td>\n      <td>00:32</td>\n    </tr>\n    <tr>\n      <td>22</td>\n      <td>0.672223</td>\n      <td>1.650038</td>\n      <td>0.417778</td>\n      <td>00:32</td>\n    </tr>\n    <tr>\n      <td>23</td>\n      <td>0.656737</td>\n      <td>0.574641</td>\n      <td>0.724444</td>\n      <td>00:33</td>\n    </tr>\n    <tr>\n      <td>24</td>\n      <td>0.635966</td>\n      <td>0.700553</td>\n      <td>0.711111</td>\n      <td>00:32</td>\n    </tr>\n    <tr>\n      <td>25</td>\n      <td>0.626780</td>\n      <td>1.008574</td>\n      <td>0.564444</td>\n      <td>00:32</td>\n    </tr>\n    <tr>\n      <td>26</td>\n      <td>0.615802</td>\n      <td>0.702322</td>\n      <td>0.635556</td>\n      <td>00:33</td>\n    </tr>\n    <tr>\n      <td>27</td>\n      <td>0.596125</td>\n      <td>0.420480</td>\n      <td>0.822222</td>\n      <td>00:33</td>\n    </tr>\n    <tr>\n      <td>28</td>\n      <td>0.612456</td>\n      <td>0.866269</td>\n      <td>0.551111</td>\n      <td>00:33</td>\n    </tr>\n    <tr>\n      <td>29</td>\n      <td>0.633338</td>\n      <td>0.507691</td>\n      <td>0.804444</td>\n      <td>00:33</td>\n    </tr>\n    <tr>\n      <td>30</td>\n      <td>0.616825</td>\n      <td>0.652736</td>\n      <td>0.755556</td>\n      <td>00:33</td>\n    </tr>\n    <tr>\n      <td>31</td>\n      <td>0.592450</td>\n      <td>0.620623</td>\n      <td>0.760000</td>\n      <td>00:33</td>\n    </tr>\n    <tr>\n      <td>32</td>\n      <td>0.587401</td>\n      <td>0.474547</td>\n      <td>0.791111</td>\n      <td>00:32</td>\n    </tr>\n    <tr>\n      <td>33</td>\n      <td>0.612885</td>\n      <td>0.538457</td>\n      <td>0.786667</td>\n      <td>00:32</td>\n    </tr>\n    <tr>\n      <td>34</td>\n      <td>0.580216</td>\n      <td>0.557206</td>\n      <td>0.711111</td>\n      <td>00:32</td>\n    </tr>\n    <tr>\n      <td>35</td>\n      <td>0.561006</td>\n      <td>0.962871</td>\n      <td>0.600000</td>\n      <td>00:33</td>\n    </tr>\n    <tr>\n      <td>36</td>\n      <td>0.575370</td>\n      <td>0.464983</td>\n      <td>0.822222</td>\n      <td>00:33</td>\n    </tr>\n    <tr>\n      <td>37</td>\n      <td>0.564613</td>\n      <td>0.449751</td>\n      <td>0.800000</td>\n      <td>00:33</td>\n    </tr>\n    <tr>\n      <td>38</td>\n      <td>0.565240</td>\n      <td>1.323158</td>\n      <td>0.457778</td>\n      <td>00:33</td>\n    </tr>\n    <tr>\n      <td>39</td>\n      <td>0.565338</td>\n      <td>0.456811</td>\n      <td>0.786667</td>\n      <td>00:32</td>\n    </tr>\n    <tr>\n      <td>40</td>\n      <td>0.569270</td>\n      <td>0.444116</td>\n      <td>0.808889</td>\n      <td>00:33</td>\n    </tr>\n    <tr>\n      <td>41</td>\n      <td>0.543052</td>\n      <td>0.672656</td>\n      <td>0.657778</td>\n      <td>00:32</td>\n    </tr>\n    <tr>\n      <td>42</td>\n      <td>0.551802</td>\n      <td>0.699353</td>\n      <td>0.702222</td>\n      <td>00:33</td>\n    </tr>\n    <tr>\n      <td>43</td>\n      <td>0.528586</td>\n      <td>0.578868</td>\n      <td>0.720000</td>\n      <td>00:33</td>\n    </tr>\n    <tr>\n      <td>44</td>\n      <td>0.536722</td>\n      <td>0.509755</td>\n      <td>0.764444</td>\n      <td>00:33</td>\n    </tr>\n    <tr>\n      <td>45</td>\n      <td>0.527302</td>\n      <td>0.435576</td>\n      <td>0.795556</td>\n      <td>00:32</td>\n    </tr>\n    <tr>\n      <td>46</td>\n      <td>0.555633</td>\n      <td>0.515067</td>\n      <td>0.768889</td>\n      <td>00:32</td>\n    </tr>\n    <tr>\n      <td>47</td>\n      <td>0.534891</td>\n      <td>0.582799</td>\n      <td>0.746667</td>\n      <td>00:33</td>\n    </tr>\n    <tr>\n      <td>48</td>\n      <td>0.512750</td>\n      <td>0.671300</td>\n      <td>0.737778</td>\n      <td>00:33</td>\n    </tr>\n    <tr>\n      <td>49</td>\n      <td>0.506701</td>\n      <td>0.713483</td>\n      <td>0.702222</td>\n      <td>00:33</td>\n    </tr>\n    <tr>\n      <td>50</td>\n      <td>0.486537</td>\n      <td>0.357489</td>\n      <td>0.844444</td>\n      <td>00:33</td>\n    </tr>\n    <tr>\n      <td>51</td>\n      <td>0.497932</td>\n      <td>0.490845</td>\n      <td>0.782222</td>\n      <td>00:33</td>\n    </tr>\n    <tr>\n      <td>52</td>\n      <td>0.482196</td>\n      <td>0.551149</td>\n      <td>0.728889</td>\n      <td>00:33</td>\n    </tr>\n    <tr>\n      <td>53</td>\n      <td>0.498347</td>\n      <td>0.632533</td>\n      <td>0.737778</td>\n      <td>00:32</td>\n    </tr>\n    <tr>\n      <td>54</td>\n      <td>0.477994</td>\n      <td>0.381737</td>\n      <td>0.822222</td>\n      <td>00:33</td>\n    </tr>\n    <tr>\n      <td>55</td>\n      <td>0.470204</td>\n      <td>0.334537</td>\n      <td>0.862222</td>\n      <td>00:32</td>\n    </tr>\n    <tr>\n      <td>56</td>\n      <td>0.480031</td>\n      <td>0.334817</td>\n      <td>0.871111</td>\n      <td>00:32</td>\n    </tr>\n    <tr>\n      <td>57</td>\n      <td>0.483773</td>\n      <td>0.659520</td>\n      <td>0.662222</td>\n      <td>00:33</td>\n    </tr>\n    <tr>\n      <td>58</td>\n      <td>0.493308</td>\n      <td>0.386256</td>\n      <td>0.844444</td>\n      <td>00:32</td>\n    </tr>\n    <tr>\n      <td>59</td>\n      <td>0.497769</td>\n      <td>0.452914</td>\n      <td>0.822222</td>\n      <td>00:32</td>\n    </tr>\n    <tr>\n      <td>60</td>\n      <td>0.464907</td>\n      <td>0.393157</td>\n      <td>0.808889</td>\n      <td>00:32</td>\n    </tr>\n    <tr>\n      <td>61</td>\n      <td>0.448024</td>\n      <td>0.315408</td>\n      <td>0.880000</td>\n      <td>00:33</td>\n    </tr>\n    <tr>\n      <td>62</td>\n      <td>0.444905</td>\n      <td>0.391813</td>\n      <td>0.835556</td>\n      <td>00:33</td>\n    </tr>\n    <tr>\n      <td>63</td>\n      <td>0.443159</td>\n      <td>0.318811</td>\n      <td>0.866667</td>\n      <td>00:32</td>\n    </tr>\n    <tr>\n      <td>64</td>\n      <td>0.461435</td>\n      <td>0.379382</td>\n      <td>0.840000</td>\n      <td>00:33</td>\n    </tr>\n    <tr>\n      <td>65</td>\n      <td>0.448309</td>\n      <td>0.330911</td>\n      <td>0.857778</td>\n      <td>00:33</td>\n    </tr>\n    <tr>\n      <td>66</td>\n      <td>0.451112</td>\n      <td>0.426229</td>\n      <td>0.813333</td>\n      <td>00:32</td>\n    </tr>\n    <tr>\n      <td>67</td>\n      <td>0.441669</td>\n      <td>0.345970</td>\n      <td>0.840000</td>\n      <td>00:33</td>\n    </tr>\n    <tr>\n      <td>68</td>\n      <td>0.460352</td>\n      <td>0.340296</td>\n      <td>0.857778</td>\n      <td>00:33</td>\n    </tr>\n    <tr>\n      <td>69</td>\n      <td>0.458729</td>\n      <td>0.385670</td>\n      <td>0.840000</td>\n      <td>00:33</td>\n    </tr>\n    <tr>\n      <td>70</td>\n      <td>0.411310</td>\n      <td>0.294843</td>\n      <td>0.875556</td>\n      <td>00:33</td>\n    </tr>\n    <tr>\n      <td>71</td>\n      <td>0.421463</td>\n      <td>0.363355</td>\n      <td>0.840000</td>\n      <td>00:33</td>\n    </tr>\n    <tr>\n      <td>72</td>\n      <td>0.431962</td>\n      <td>0.359424</td>\n      <td>0.835556</td>\n      <td>00:33</td>\n    </tr>\n    <tr>\n      <td>73</td>\n      <td>0.423516</td>\n      <td>0.323654</td>\n      <td>0.853333</td>\n      <td>00:33</td>\n    </tr>\n    <tr>\n      <td>74</td>\n      <td>0.412043</td>\n      <td>0.290889</td>\n      <td>0.884444</td>\n      <td>00:33</td>\n    </tr>\n    <tr>\n      <td>75</td>\n      <td>0.405890</td>\n      <td>0.304647</td>\n      <td>0.875556</td>\n      <td>00:32</td>\n    </tr>\n    <tr>\n      <td>76</td>\n      <td>0.410193</td>\n      <td>0.279868</td>\n      <td>0.915556</td>\n      <td>00:33</td>\n    </tr>\n    <tr>\n      <td>77</td>\n      <td>0.391016</td>\n      <td>0.299481</td>\n      <td>0.880000</td>\n      <td>00:33</td>\n    </tr>\n    <tr>\n      <td>78</td>\n      <td>0.385045</td>\n      <td>0.360484</td>\n      <td>0.840000</td>\n      <td>00:32</td>\n    </tr>\n    <tr>\n      <td>79</td>\n      <td>0.385154</td>\n      <td>0.338845</td>\n      <td>0.835556</td>\n      <td>00:33</td>\n    </tr>\n    <tr>\n      <td>80</td>\n      <td>0.353025</td>\n      <td>0.293225</td>\n      <td>0.875556</td>\n      <td>00:33</td>\n    </tr>\n    <tr>\n      <td>81</td>\n      <td>0.360805</td>\n      <td>0.294532</td>\n      <td>0.897778</td>\n      <td>00:32</td>\n    </tr>\n    <tr>\n      <td>82</td>\n      <td>0.384307</td>\n      <td>0.302656</td>\n      <td>0.866667</td>\n      <td>00:33</td>\n    </tr>\n    <tr>\n      <td>83</td>\n      <td>0.412150</td>\n      <td>0.319573</td>\n      <td>0.862222</td>\n      <td>00:33</td>\n    </tr>\n    <tr>\n      <td>84</td>\n      <td>0.393210</td>\n      <td>0.296553</td>\n      <td>0.884444</td>\n      <td>00:33</td>\n    </tr>\n    <tr>\n      <td>85</td>\n      <td>0.393773</td>\n      <td>0.295052</td>\n      <td>0.884444</td>\n      <td>00:32</td>\n    </tr>\n    <tr>\n      <td>86</td>\n      <td>0.383686</td>\n      <td>0.291081</td>\n      <td>0.893333</td>\n      <td>00:33</td>\n    </tr>\n    <tr>\n      <td>87</td>\n      <td>0.396875</td>\n      <td>0.284076</td>\n      <td>0.880000</td>\n      <td>00:33</td>\n    </tr>\n    <tr>\n      <td>88</td>\n      <td>0.378468</td>\n      <td>0.302086</td>\n      <td>0.871111</td>\n      <td>00:32</td>\n    </tr>\n    <tr>\n      <td>89</td>\n      <td>0.382344</td>\n      <td>0.311889</td>\n      <td>0.871111</td>\n      <td>00:33</td>\n    </tr>\n    <tr>\n      <td>90</td>\n      <td>0.369859</td>\n      <td>0.304200</td>\n      <td>0.888889</td>\n      <td>00:32</td>\n    </tr>\n    <tr>\n      <td>91</td>\n      <td>0.360896</td>\n      <td>0.281059</td>\n      <td>0.897778</td>\n      <td>00:33</td>\n    </tr>\n    <tr>\n      <td>92</td>\n      <td>0.356050</td>\n      <td>0.276989</td>\n      <td>0.893333</td>\n      <td>00:32</td>\n    </tr>\n    <tr>\n      <td>93</td>\n      <td>0.377703</td>\n      <td>0.270958</td>\n      <td>0.897778</td>\n      <td>00:33</td>\n    </tr>\n    <tr>\n      <td>94</td>\n      <td>0.379510</td>\n      <td>0.283899</td>\n      <td>0.888889</td>\n      <td>00:33</td>\n    </tr>\n    <tr>\n      <td>95</td>\n      <td>0.370795</td>\n      <td>0.286548</td>\n      <td>0.888889</td>\n      <td>00:33</td>\n    </tr>\n    <tr>\n      <td>96</td>\n      <td>0.362228</td>\n      <td>0.279354</td>\n      <td>0.888889</td>\n      <td>00:33</td>\n    </tr>\n    <tr>\n      <td>97</td>\n      <td>0.346136</td>\n      <td>0.278291</td>\n      <td>0.888889</td>\n      <td>00:32</td>\n    </tr>\n    <tr>\n      <td>98</td>\n      <td>0.363207</td>\n      <td>0.284540</td>\n      <td>0.884444</td>\n      <td>00:33</td>\n    </tr>\n    <tr>\n      <td>99</td>\n      <td>0.350907</td>\n      <td>0.279894</td>\n      <td>0.897778</td>\n      <td>00:32</td>\n    </tr>\n  </tbody>\n</table>"
          },
          "metadata": {}
        },
        {
          "output_type": "display_data",
          "data": {
            "text/plain": "<IPython.core.display.HTML object>",
            "text/html": "\n<style>\n    /* Turns off some styling */\n    progress {\n        /* gets rid of default border in Firefox and Opera. */\n        border: none;\n        /* Needs to be in here for Safari polyfill so background images work as expected. */\n        background-size: auto;\n    }\n    .progress-bar-interrupted, .progress-bar-interrupted::-webkit-progress-bar {\n        background: #F44336;\n    }\n</style>\n"
          },
          "metadata": {}
        },
        {
          "output_type": "display_data",
          "data": {
            "text/plain": "<IPython.core.display.HTML object>",
            "text/html": ""
          },
          "metadata": {}
        },
        {
          "execution_count": 14,
          "output_type": "execute_result",
          "data": {
            "text/plain": "tensor(0.8978)"
          },
          "metadata": {}
        }
      ]
    }
  ]
}