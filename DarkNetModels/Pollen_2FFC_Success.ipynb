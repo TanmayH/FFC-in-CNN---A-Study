{
  "metadata": {
    "kernelspec": {
      "language": "python",
      "display_name": "Python 3",
      "name": "python3"
    },
    "language_info": {
      "name": "python",
      "version": "3.7.12",
      "mimetype": "text/x-python",
      "codemirror_mode": {
        "name": "ipython",
        "version": 3
      },
      "pygments_lexer": "ipython3",
      "nbconvert_exporter": "python",
      "file_extension": ".py"
    },
    "colab": {
      "name": "Pollen_2FFC_Success.ipynb",
      "provenance": [],
      "collapsed_sections": []
    }
  },
  "nbformat_minor": 0,
  "nbformat": 4,
  "cells": [
    {
      "cell_type": "code",
      "source": [
        "%reload_ext autoreload\n",
        "%autoreload 2\n",
        "%matplotlib inline"
      ],
      "metadata": {
        "id": "Ggtu0DDwMzjB",
        "execution": {
          "iopub.status.busy": "2022-03-15T08:51:39.876985Z",
          "iopub.execute_input": "2022-03-15T08:51:39.877371Z",
          "iopub.status.idle": "2022-03-15T08:51:39.947958Z",
          "shell.execute_reply.started": "2022-03-15T08:51:39.877272Z",
          "shell.execute_reply": "2022-03-15T08:51:39.947239Z"
        },
        "trusted": true
      },
      "execution_count": null,
      "outputs": []
    },
    {
      "cell_type": "code",
      "source": [
        "!pip install fastai==\"1.0.61\"\n",
        "!pip install torchsummary"
      ],
      "metadata": {
        "execution": {
          "iopub.status.busy": "2022-03-15T08:53:12.982654Z",
          "iopub.execute_input": "2022-03-15T08:53:12.982936Z",
          "iopub.status.idle": "2022-03-15T08:53:41.452984Z",
          "shell.execute_reply.started": "2022-03-15T08:53:12.982885Z",
          "shell.execute_reply": "2022-03-15T08:53:41.452153Z"
        },
        "trusted": true,
        "id": "270O302U2lxa",
        "outputId": "79298ea3-3455-4a59-f151-a377eb64fda7"
      },
      "execution_count": null,
      "outputs": [
        {
          "name": "stdout",
          "text": "Collecting fastai==1.0.61\n  Downloading fastai-1.0.61-py3-none-any.whl (239 kB)\n     |████████████████████████████████| 239 kB 785 kB/s            \n\u001b[?25hRequirement already satisfied: torchvision in /opt/conda/lib/python3.7/site-packages (from fastai==1.0.61) (0.10.1)\nRequirement already satisfied: spacy>=2.0.18 in /opt/conda/lib/python3.7/site-packages (from fastai==1.0.61) (3.2.2)\nRequirement already satisfied: numpy>=1.15 in /opt/conda/lib/python3.7/site-packages (from fastai==1.0.61) (1.20.3)\nRequirement already satisfied: bottleneck in /opt/conda/lib/python3.7/site-packages (from fastai==1.0.61) (1.3.2)\nRequirement already satisfied: pyyaml in /opt/conda/lib/python3.7/site-packages (from fastai==1.0.61) (6.0)\nCollecting nvidia-ml-py3\n  Downloading nvidia-ml-py3-7.352.0.tar.gz (19 kB)\n  Preparing metadata (setup.py) ... \u001b[?25ldone\n\u001b[?25hRequirement already satisfied: pandas in /opt/conda/lib/python3.7/site-packages (from fastai==1.0.61) (1.3.5)\nRequirement already satisfied: matplotlib in /opt/conda/lib/python3.7/site-packages (from fastai==1.0.61) (3.5.1)\nRequirement already satisfied: torch>=1.0.0 in /opt/conda/lib/python3.7/site-packages (from fastai==1.0.61) (1.9.1)\nRequirement already satisfied: beautifulsoup4 in /opt/conda/lib/python3.7/site-packages (from fastai==1.0.61) (4.10.0)\nRequirement already satisfied: requests in /opt/conda/lib/python3.7/site-packages (from fastai==1.0.61) (2.26.0)\nRequirement already satisfied: Pillow in /opt/conda/lib/python3.7/site-packages (from fastai==1.0.61) (8.2.0)\nRequirement already satisfied: packaging in /opt/conda/lib/python3.7/site-packages (from fastai==1.0.61) (21.3)\nRequirement already satisfied: scipy in /opt/conda/lib/python3.7/site-packages (from fastai==1.0.61) (1.7.3)\nRequirement already satisfied: numexpr in /opt/conda/lib/python3.7/site-packages (from fastai==1.0.61) (2.8.1)\nRequirement already satisfied: fastprogress>=0.2.1 in /opt/conda/lib/python3.7/site-packages (from fastai==1.0.61) (1.0.2)\nRequirement already satisfied: preshed<3.1.0,>=3.0.2 in /opt/conda/lib/python3.7/site-packages (from spacy>=2.0.18->fastai==1.0.61) (3.0.6)\nRequirement already satisfied: blis<0.8.0,>=0.4.0 in /opt/conda/lib/python3.7/site-packages (from spacy>=2.0.18->fastai==1.0.61) (0.7.5)\nRequirement already satisfied: thinc<8.1.0,>=8.0.12 in /opt/conda/lib/python3.7/site-packages (from spacy>=2.0.18->fastai==1.0.61) (8.0.13)\nRequirement already satisfied: tqdm<5.0.0,>=4.38.0 in /opt/conda/lib/python3.7/site-packages (from spacy>=2.0.18->fastai==1.0.61) (4.62.3)\nRequirement already satisfied: wasabi<1.1.0,>=0.8.1 in /opt/conda/lib/python3.7/site-packages (from spacy>=2.0.18->fastai==1.0.61) (0.9.0)\nRequirement already satisfied: cymem<2.1.0,>=2.0.2 in /opt/conda/lib/python3.7/site-packages (from spacy>=2.0.18->fastai==1.0.61) (2.0.6)\nRequirement already satisfied: pydantic!=1.8,!=1.8.1,<1.9.0,>=1.7.4 in /opt/conda/lib/python3.7/site-packages (from spacy>=2.0.18->fastai==1.0.61) (1.8.2)\nRequirement already satisfied: spacy-legacy<3.1.0,>=3.0.8 in /opt/conda/lib/python3.7/site-packages (from spacy>=2.0.18->fastai==1.0.61) (3.0.9)\nRequirement already satisfied: jinja2 in /opt/conda/lib/python3.7/site-packages (from spacy>=2.0.18->fastai==1.0.61) (3.0.3)\nCollecting typing-extensions<4.0.0.0,>=3.7.4\n  Downloading typing_extensions-3.10.0.2-py3-none-any.whl (26 kB)\nRequirement already satisfied: typer<0.5.0,>=0.3.0 in /opt/conda/lib/python3.7/site-packages (from spacy>=2.0.18->fastai==1.0.61) (0.4.0)\nRequirement already satisfied: langcodes<4.0.0,>=3.2.0 in /opt/conda/lib/python3.7/site-packages (from spacy>=2.0.18->fastai==1.0.61) (3.3.0)\nRequirement already satisfied: setuptools in /opt/conda/lib/python3.7/site-packages (from spacy>=2.0.18->fastai==1.0.61) (59.5.0)\nRequirement already satisfied: catalogue<2.1.0,>=2.0.6 in /opt/conda/lib/python3.7/site-packages (from spacy>=2.0.18->fastai==1.0.61) (2.0.6)\nRequirement already satisfied: spacy-loggers<2.0.0,>=1.0.0 in /opt/conda/lib/python3.7/site-packages (from spacy>=2.0.18->fastai==1.0.61) (1.0.1)\nRequirement already satisfied: murmurhash<1.1.0,>=0.28.0 in /opt/conda/lib/python3.7/site-packages (from spacy>=2.0.18->fastai==1.0.61) (1.0.6)\nRequirement already satisfied: srsly<3.0.0,>=2.4.1 in /opt/conda/lib/python3.7/site-packages (from spacy>=2.0.18->fastai==1.0.61) (2.4.2)\nRequirement already satisfied: pathy>=0.3.5 in /opt/conda/lib/python3.7/site-packages (from spacy>=2.0.18->fastai==1.0.61) (0.6.1)\nRequirement already satisfied: pyparsing!=3.0.5,>=2.0.2 in /opt/conda/lib/python3.7/site-packages (from packaging->fastai==1.0.61) (3.0.6)\nRequirement already satisfied: idna<4,>=2.5 in /opt/conda/lib/python3.7/site-packages (from requests->fastai==1.0.61) (3.1)\nRequirement already satisfied: charset-normalizer~=2.0.0 in /opt/conda/lib/python3.7/site-packages (from requests->fastai==1.0.61) (2.0.9)\nRequirement already satisfied: urllib3<1.27,>=1.21.1 in /opt/conda/lib/python3.7/site-packages (from requests->fastai==1.0.61) (1.26.7)\nRequirement already satisfied: certifi>=2017.4.17 in /opt/conda/lib/python3.7/site-packages (from requests->fastai==1.0.61) (2021.10.8)\nRequirement already satisfied: soupsieve>1.2 in /opt/conda/lib/python3.7/site-packages (from beautifulsoup4->fastai==1.0.61) (2.3.1)\nRequirement already satisfied: python-dateutil>=2.7 in /opt/conda/lib/python3.7/site-packages (from matplotlib->fastai==1.0.61) (2.8.2)\nRequirement already satisfied: cycler>=0.10 in /opt/conda/lib/python3.7/site-packages (from matplotlib->fastai==1.0.61) (0.11.0)\nRequirement already satisfied: kiwisolver>=1.0.1 in /opt/conda/lib/python3.7/site-packages (from matplotlib->fastai==1.0.61) (1.3.2)\nRequirement already satisfied: fonttools>=4.22.0 in /opt/conda/lib/python3.7/site-packages (from matplotlib->fastai==1.0.61) (4.28.4)\nRequirement already satisfied: pytz>=2017.3 in /opt/conda/lib/python3.7/site-packages (from pandas->fastai==1.0.61) (2021.3)\nRequirement already satisfied: zipp>=0.5 in /opt/conda/lib/python3.7/site-packages (from catalogue<2.1.0,>=2.0.6->spacy>=2.0.18->fastai==1.0.61) (3.6.0)\nRequirement already satisfied: smart-open<6.0.0,>=5.0.0 in /opt/conda/lib/python3.7/site-packages (from pathy>=0.3.5->spacy>=2.0.18->fastai==1.0.61) (5.2.1)\nRequirement already satisfied: six>=1.5 in /opt/conda/lib/python3.7/site-packages (from python-dateutil>=2.7->matplotlib->fastai==1.0.61) (1.16.0)\nRequirement already satisfied: click<9.0.0,>=7.1.1 in /opt/conda/lib/python3.7/site-packages (from typer<0.5.0,>=0.3.0->spacy>=2.0.18->fastai==1.0.61) (8.0.3)\nRequirement already satisfied: MarkupSafe>=2.0 in /opt/conda/lib/python3.7/site-packages (from jinja2->spacy>=2.0.18->fastai==1.0.61) (2.1.0)\nRequirement already satisfied: importlib-metadata in /opt/conda/lib/python3.7/site-packages (from click<9.0.0,>=7.1.1->typer<0.5.0,>=0.3.0->spacy>=2.0.18->fastai==1.0.61) (4.11.2)\nBuilding wheels for collected packages: nvidia-ml-py3\n  Building wheel for nvidia-ml-py3 (setup.py) ... \u001b[?25ldone\n\u001b[?25h  Created wheel for nvidia-ml-py3: filename=nvidia_ml_py3-7.352.0-py3-none-any.whl size=19191 sha256=e682f350b00a2efe3c6fb1ffc875b8705d47d4d098e2b75ebda9d38be39d82b0\n  Stored in directory: /root/.cache/pip/wheels/df/99/da/c34f202dc8fd1dffd35e0ecf1a7d7f8374ca05fbcbaf974b83\nSuccessfully built nvidia-ml-py3\nInstalling collected packages: typing-extensions, nvidia-ml-py3, fastai\n  Attempting uninstall: typing-extensions\n    Found existing installation: typing-extensions 4.1.1\n    Uninstalling typing-extensions-4.1.1:\n      Successfully uninstalled typing-extensions-4.1.1\n  Attempting uninstall: fastai\n    Found existing installation: fastai 2.5.3\n    Uninstalling fastai-2.5.3:\n      Successfully uninstalled fastai-2.5.3\n\u001b[31mERROR: pip's dependency resolver does not currently take into account all the packages that are installed. This behaviour is the source of the following dependency conflicts.\ntensorflow-io 0.21.0 requires tensorflow-io-gcs-filesystem==0.21.0, which is not installed.\nexplainable-ai-sdk 1.3.2 requires xai-image-widget, which is not installed.\ntensorflow 2.6.2 requires numpy~=1.19.2, but you have numpy 1.20.3 which is incompatible.\ntensorflow 2.6.2 requires six~=1.15.0, but you have six 1.16.0 which is incompatible.\ntensorflow 2.6.2 requires typing-extensions~=3.7.4, but you have typing-extensions 3.10.0.2 which is incompatible.\ntensorflow 2.6.2 requires wrapt~=1.12.1, but you have wrapt 1.13.3 which is incompatible.\ntensorflow-transform 1.5.0 requires absl-py<0.13,>=0.9, but you have absl-py 0.15.0 which is incompatible.\ntensorflow-transform 1.5.0 requires numpy<1.20,>=1.16, but you have numpy 1.20.3 which is incompatible.\ntensorflow-transform 1.5.0 requires pyarrow<6,>=1, but you have pyarrow 6.0.1 which is incompatible.\ntensorflow-transform 1.5.0 requires tensorflow!=2.0.*,!=2.1.*,!=2.2.*,!=2.3.*,!=2.4.*,!=2.5.*,!=2.6.*,<2.8,>=1.15.2, but you have tensorflow 2.6.2 which is incompatible.\ntensorflow-serving-api 2.7.0 requires tensorflow<3,>=2.7.0, but you have tensorflow 2.6.2 which is incompatible.\nflake8 4.0.1 requires importlib-metadata<4.3; python_version < \"3.8\", but you have importlib-metadata 4.11.2 which is incompatible.\napache-beam 2.34.0 requires dill<0.3.2,>=0.3.1.1, but you have dill 0.3.4 which is incompatible.\napache-beam 2.34.0 requires httplib2<0.20.0,>=0.8, but you have httplib2 0.20.2 which is incompatible.\napache-beam 2.34.0 requires pyarrow<6.0.0,>=0.15.1, but you have pyarrow 6.0.1 which is incompatible.\naioitertools 0.10.0 requires typing_extensions>=4.0; python_version < \"3.10\", but you have typing-extensions 3.10.0.2 which is incompatible.\naiobotocore 2.1.1 requires botocore<1.23.25,>=1.23.24, but you have botocore 1.24.8 which is incompatible.\u001b[0m\nSuccessfully installed fastai-1.0.61 nvidia-ml-py3-7.352.0 typing-extensions-3.10.0.2\n\u001b[33mWARNING: Running pip as the 'root' user can result in broken permissions and conflicting behaviour with the system package manager. It is recommended to use a virtual environment instead: https://pip.pypa.io/warnings/venv\u001b[0m\nCollecting torchsummary\n  Downloading torchsummary-1.5.1-py3-none-any.whl (2.8 kB)\nInstalling collected packages: torchsummary\nSuccessfully installed torchsummary-1.5.1\n\u001b[33mWARNING: Running pip as the 'root' user can result in broken permissions and conflicting behaviour with the system package manager. It is recommended to use a virtual environment instead: https://pip.pypa.io/warnings/venv\u001b[0m\n",
          "output_type": "stream"
        }
      ]
    },
    {
      "cell_type": "code",
      "source": [
        "import torch.nn as nn\n",
        "import torch.nn.functional as F\n",
        "import torch\n",
        "# from google.colab import drive\n",
        "# drive.mount('/content/drive')\n",
        "from glob import glob\n",
        "import torchvision\n",
        "import torchvision.transforms as transforms\n",
        "import torchvision.datasets as datasets\n",
        "from torchsummary import summary\n",
        "from fastai.metrics import accuracy\n",
        "from fastai.vision import *\n",
        "import numpy as np\n",
        "!pip install fft-conv-pytorch\n",
        "from fft_conv_pytorch import fft_conv, FFTConv2d"
      ],
      "metadata": {
        "id": "zMLxNfecNGPJ",
        "outputId": "a2a664ea-f997-402a-8176-489f46ee67b6",
        "execution": {
          "iopub.status.busy": "2022-03-15T08:53:44.639158Z",
          "iopub.execute_input": "2022-03-15T08:53:44.639790Z",
          "iopub.status.idle": "2022-03-15T08:53:53.695922Z",
          "shell.execute_reply.started": "2022-03-15T08:53:44.639748Z",
          "shell.execute_reply": "2022-03-15T08:53:53.694889Z"
        },
        "trusted": true
      },
      "execution_count": null,
      "outputs": [
        {
          "name": "stdout",
          "text": "Collecting fft-conv-pytorch\n  Downloading fft_conv_pytorch-1.1.3-py3-none-any.whl (6.6 kB)\nRequirement already satisfied: torch>=1.8 in /opt/conda/lib/python3.7/site-packages (from fft-conv-pytorch) (1.9.1)\nRequirement already satisfied: numpy in /opt/conda/lib/python3.7/site-packages (from fft-conv-pytorch) (1.20.3)\nRequirement already satisfied: typing-extensions in /opt/conda/lib/python3.7/site-packages (from torch>=1.8->fft-conv-pytorch) (3.10.0.2)\nInstalling collected packages: fft-conv-pytorch\nSuccessfully installed fft-conv-pytorch-1.1.3\n\u001b[33mWARNING: Running pip as the 'root' user can result in broken permissions and conflicting behaviour with the system package manager. It is recommended to use a virtual environment instead: https://pip.pypa.io/warnings/venv\u001b[0m\n",
          "output_type": "stream"
        }
      ]
    },
    {
      "cell_type": "code",
      "source": [
        "import warnings\n",
        "warnings.filterwarnings('ignore')"
      ],
      "metadata": {
        "id": "SUrHkMi6NV2u",
        "execution": {
          "iopub.status.busy": "2022-03-15T08:53:55.747782Z",
          "iopub.execute_input": "2022-03-15T08:53:55.748410Z",
          "iopub.status.idle": "2022-03-15T08:53:55.753075Z",
          "shell.execute_reply.started": "2022-03-15T08:53:55.748371Z",
          "shell.execute_reply": "2022-03-15T08:53:55.751972Z"
        },
        "trusted": true
      },
      "execution_count": null,
      "outputs": []
    },
    {
      "cell_type": "code",
      "source": [
        "path = \"../input/grains/grain_dataset\"\n",
        "np.random.seed(41)\n",
        "data = ImageDataBunch.from_folder(path, train=\"Train\", valid =\"Valid\", valid_pct=0.2,ds_tfms=get_transforms(), size=(256,256), bs=16, num_workers=4).normalize()"
      ],
      "metadata": {
        "id": "CQ3FJgcwNYTk",
        "execution": {
          "iopub.status.busy": "2022-03-15T10:14:19.835431Z",
          "iopub.execute_input": "2022-03-15T10:14:19.835703Z",
          "iopub.status.idle": "2022-03-15T10:14:20.251182Z",
          "shell.execute_reply.started": "2022-03-15T10:14:19.835674Z",
          "shell.execute_reply": "2022-03-15T10:14:20.250438Z"
        },
        "trusted": true
      },
      "execution_count": null,
      "outputs": []
    },
    {
      "cell_type": "code",
      "source": [
        "print (data.classes, data.c, len(data.train_ds), len(data.valid_ds))\n",
        "print (data.train_ds.classes)\n",
        "print (data.valid_ds.classes)"
      ],
      "metadata": {
        "id": "FM7QVE2MNwFU",
        "outputId": "20f1c640-2384-4cff-dc54-db334583f7c9",
        "execution": {
          "iopub.status.busy": "2022-03-15T09:28:01.914704Z",
          "iopub.execute_input": "2022-03-15T09:28:01.914995Z",
          "iopub.status.idle": "2022-03-15T09:28:01.924599Z",
          "shell.execute_reply.started": "2022-03-15T09:28:01.914960Z",
          "shell.execute_reply": "2022-03-15T09:28:01.923392Z"
        },
        "trusted": true
      },
      "execution_count": null,
      "outputs": [
        {
          "name": "stdout",
          "text": "['anadenanthera', 'arecaceae', 'arrabidaea', 'cecropia', 'chromolaena', 'combretum', 'croton', 'dipteryx', 'eucalipto', 'faramea', 'hyptis', 'mabea', 'matayba', 'mimosa', 'mycria', 'protium', 'qualea', 'schinus', 'senegalia', 'serjania', 'syagrus', 'tridax', 'urochloa'] 23 632 158\n['anadenanthera', 'arecaceae', 'arrabidaea', 'cecropia', 'chromolaena', 'combretum', 'croton', 'dipteryx', 'eucalipto', 'faramea', 'hyptis', 'mabea', 'matayba', 'mimosa', 'mycria', 'protium', 'qualea', 'schinus', 'senegalia', 'serjania', 'syagrus', 'tridax', 'urochloa']\n['anadenanthera', 'arecaceae', 'arrabidaea', 'cecropia', 'chromolaena', 'combretum', 'croton', 'dipteryx', 'eucalipto', 'faramea', 'hyptis', 'mabea', 'matayba', 'mimosa', 'mycria', 'protium', 'qualea', 'schinus', 'senegalia', 'serjania', 'syagrus', 'tridax', 'urochloa']\n",
          "output_type": "stream"
        }
      ]
    },
    {
      "cell_type": "code",
      "source": [
        "def fft_conv_block(ni, nf, size=3, stride=1):\n",
        "    for_pad = lambda s: s if s > 2 else 3\n",
        "    return nn.Sequential(\n",
        "        FFTConv2d(ni, nf, kernel_size=size, stride=stride,\n",
        "                  padding=(for_pad(size) - 1)//2, bias=False), \n",
        "        nn.BatchNorm2d(nf),\n",
        "        nn.LeakyReLU(negative_slope=0.1, inplace=True)  \n",
        "    )\n",
        "\n",
        "def conv_block(ni, nf, size=3, stride=1):\n",
        "    for_pad = lambda s: s if s > 2 else 3\n",
        "    return nn.Sequential(\n",
        "        nn.Conv2d(ni, nf, kernel_size=size, stride=stride,\n",
        "                  padding=(for_pad(size) - 1)//2, bias=False), \n",
        "        nn.BatchNorm2d(nf),\n",
        "        nn.LeakyReLU(negative_slope=0.1, inplace=True)  \n",
        "    )\n",
        "\n",
        "def triple_conv(ni, nf):\n",
        "    return nn.Sequential(\n",
        "        conv_block(ni, nf),\n",
        "        conv_block(nf, ni, size=1),  \n",
        "        conv_block(ni, nf)\n",
        "    )\n",
        "def fft_triple_conv(ni, nf,size):\n",
        "    return nn.Sequential(\n",
        "        fft_conv_block(ni, nf,size),\n",
        "        conv_block(nf, ni, size=1),  \n",
        "        fft_conv_block(ni, nf, size)\n",
        "    )\n",
        "def maxpooling():\n",
        "    return nn.MaxPool2d(2, stride=2)"
      ],
      "metadata": {
        "id": "ZBdMXQomN0Cu",
        "execution": {
          "iopub.status.busy": "2022-03-15T08:54:16.851942Z",
          "iopub.execute_input": "2022-03-15T08:54:16.852602Z",
          "iopub.status.idle": "2022-03-15T08:54:16.863335Z",
          "shell.execute_reply.started": "2022-03-15T08:54:16.852559Z",
          "shell.execute_reply": "2022-03-15T08:54:16.862577Z"
        },
        "trusted": true
      },
      "execution_count": null,
      "outputs": []
    },
    {
      "cell_type": "code",
      "source": [
        "fft_model5 = nn.Sequential(\n",
        "    fft_conv_block(3, 8, 21),\n",
        "    maxpooling(),\n",
        "    fft_conv_block(8, 16, 17),\n",
        "    maxpooling(),\n",
        "    triple_conv(16,32),\n",
        "    maxpooling(),\n",
        "    triple_conv(32, 64),\n",
        "    maxpooling(),\n",
        "    triple_conv(64, 128),\n",
        "    maxpooling(),\n",
        "    triple_conv(128, 256),\n",
        "    conv_block(256, 128, size=1),\n",
        "    conv_block(128, 256),\n",
        "    conv_block(256,23),\n",
        "    nn.Flatten(),\n",
        "    nn.Linear(3887, 23)\n",
        ")\n",
        "fft_learn5= Learner(data, fft_model5, loss_func = nn.CrossEntropyLoss(), metrics=accuracy)\n",
        "print(fft_learn5.summary())\n",
        "fft_learn5.fit_one_cycle(100, max_lr=5e-3)"
      ],
      "metadata": {
        "id": "Zx_Q63NaF1ct",
        "outputId": "3ffb40d0-9759-420c-e0d6-32eb78fbe307",
        "execution": {
          "iopub.status.busy": "2022-03-15T10:14:28.457028Z",
          "iopub.execute_input": "2022-03-15T10:14:28.457807Z",
          "iopub.status.idle": "2022-03-15T10:27:50.957215Z",
          "shell.execute_reply.started": "2022-03-15T10:14:28.457768Z",
          "shell.execute_reply": "2022-03-15T10:27:50.956439Z"
        },
        "trusted": true
      },
      "execution_count": null,
      "outputs": [
        {
          "name": "stdout",
          "text": "Sequential\n======================================================================\nLayer (type)         Output Shape         Param #    Trainable \n======================================================================\n_FFTConv             [8, 256, 256]        10,584     True      \n______________________________________________________________________\nBatchNorm2d          [8, 256, 256]        16         True      \n______________________________________________________________________\nLeakyReLU            [8, 256, 256]        0          False     \n______________________________________________________________________\nMaxPool2d            [8, 128, 128]        0          False     \n______________________________________________________________________\n_FFTConv             [16, 128, 128]       36,992     True      \n______________________________________________________________________\nBatchNorm2d          [16, 128, 128]       32         True      \n______________________________________________________________________\nLeakyReLU            [16, 128, 128]       0          False     \n______________________________________________________________________\nMaxPool2d            [16, 64, 64]         0          False     \n______________________________________________________________________\nConv2d               [32, 64, 64]         4,608      True      \n______________________________________________________________________\nBatchNorm2d          [32, 64, 64]         64         True      \n______________________________________________________________________\nLeakyReLU            [32, 64, 64]         0          False     \n______________________________________________________________________\nConv2d               [16, 66, 66]         512        True      \n______________________________________________________________________\nBatchNorm2d          [16, 66, 66]         32         True      \n______________________________________________________________________\nLeakyReLU            [16, 66, 66]         0          False     \n______________________________________________________________________\nConv2d               [32, 66, 66]         4,608      True      \n______________________________________________________________________\nBatchNorm2d          [32, 66, 66]         64         True      \n______________________________________________________________________\nLeakyReLU            [32, 66, 66]         0          False     \n______________________________________________________________________\nMaxPool2d            [32, 33, 33]         0          False     \n______________________________________________________________________\nConv2d               [64, 33, 33]         18,432     True      \n______________________________________________________________________\nBatchNorm2d          [64, 33, 33]         128        True      \n______________________________________________________________________\nLeakyReLU            [64, 33, 33]         0          False     \n______________________________________________________________________\nConv2d               [32, 35, 35]         2,048      True      \n______________________________________________________________________\nBatchNorm2d          [32, 35, 35]         64         True      \n______________________________________________________________________\nLeakyReLU            [32, 35, 35]         0          False     \n______________________________________________________________________\nConv2d               [64, 35, 35]         18,432     True      \n______________________________________________________________________\nBatchNorm2d          [64, 35, 35]         128        True      \n______________________________________________________________________\nLeakyReLU            [64, 35, 35]         0          False     \n______________________________________________________________________\nMaxPool2d            [64, 17, 17]         0          False     \n______________________________________________________________________\nConv2d               [128, 17, 17]        73,728     True      \n______________________________________________________________________\nBatchNorm2d          [128, 17, 17]        256        True      \n______________________________________________________________________\nLeakyReLU            [128, 17, 17]        0          False     \n______________________________________________________________________\nConv2d               [64, 19, 19]         8,192      True      \n______________________________________________________________________\nBatchNorm2d          [64, 19, 19]         128        True      \n______________________________________________________________________\nLeakyReLU            [64, 19, 19]         0          False     \n______________________________________________________________________\nConv2d               [128, 19, 19]        73,728     True      \n______________________________________________________________________\nBatchNorm2d          [128, 19, 19]        256        True      \n______________________________________________________________________\nLeakyReLU            [128, 19, 19]        0          False     \n______________________________________________________________________\nMaxPool2d            [128, 9, 9]          0          False     \n______________________________________________________________________\nConv2d               [256, 9, 9]          294,912    True      \n______________________________________________________________________\nBatchNorm2d          [256, 9, 9]          512        True      \n______________________________________________________________________\nLeakyReLU            [256, 9, 9]          0          False     \n______________________________________________________________________\nConv2d               [128, 11, 11]        32,768     True      \n______________________________________________________________________\nBatchNorm2d          [128, 11, 11]        256        True      \n______________________________________________________________________\nLeakyReLU            [128, 11, 11]        0          False     \n______________________________________________________________________\nConv2d               [256, 11, 11]        294,912    True      \n______________________________________________________________________\nBatchNorm2d          [256, 11, 11]        512        True      \n______________________________________________________________________\nLeakyReLU            [256, 11, 11]        0          False     \n______________________________________________________________________\nConv2d               [128, 13, 13]        32,768     True      \n______________________________________________________________________\nBatchNorm2d          [128, 13, 13]        256        True      \n______________________________________________________________________\nLeakyReLU            [128, 13, 13]        0          False     \n______________________________________________________________________\nConv2d               [256, 13, 13]        294,912    True      \n______________________________________________________________________\nBatchNorm2d          [256, 13, 13]        512        True      \n______________________________________________________________________\nLeakyReLU            [256, 13, 13]        0          False     \n______________________________________________________________________\nConv2d               [23, 13, 13]         52,992     True      \n______________________________________________________________________\nBatchNorm2d          [23, 13, 13]         46         True      \n______________________________________________________________________\nLeakyReLU            [23, 13, 13]         0          False     \n______________________________________________________________________\nFlatten              [3887]               0          False     \n______________________________________________________________________\nLinear               [23]                 89,424     True      \n______________________________________________________________________\n\nTotal params: 1,347,814\nTotal trainable params: 1,347,814\nTotal non-trainable params: 0\nOptimized with 'torch.optim.adam.Adam', betas=(0.9, 0.99)\nUsing true weight decay as discussed in https://www.fast.ai/2018/07/02/adam-weight-decay/ \nLoss function : CrossEntropyLoss\n======================================================================\nCallbacks functions applied \n\n",
          "output_type": "stream"
        },
        {
          "output_type": "display_data",
          "data": {
            "text/plain": "<IPython.core.display.HTML object>",
            "text/html": "\n<style>\n    /* Turns off some styling */\n    progress {\n        /* gets rid of default border in Firefox and Opera. */\n        border: none;\n        /* Needs to be in here for Safari polyfill so background images work as expected. */\n        background-size: auto;\n    }\n    .progress-bar-interrupted, .progress-bar-interrupted::-webkit-progress-bar {\n        background: #F44336;\n    }\n</style>\n"
          },
          "metadata": {}
        },
        {
          "output_type": "display_data",
          "data": {
            "text/plain": "<IPython.core.display.HTML object>",
            "text/html": "<table border=\"1\" class=\"dataframe\">\n  <thead>\n    <tr style=\"text-align: left;\">\n      <th>epoch</th>\n      <th>train_loss</th>\n      <th>valid_loss</th>\n      <th>accuracy</th>\n      <th>time</th>\n    </tr>\n  </thead>\n  <tbody>\n    <tr>\n      <td>0</td>\n      <td>2.850605</td>\n      <td>2.899842</td>\n      <td>0.132911</td>\n      <td>00:07</td>\n    </tr>\n    <tr>\n      <td>1</td>\n      <td>2.330956</td>\n      <td>1.640710</td>\n      <td>0.443038</td>\n      <td>00:07</td>\n    </tr>\n    <tr>\n      <td>2</td>\n      <td>1.885574</td>\n      <td>1.252272</td>\n      <td>0.588608</td>\n      <td>00:08</td>\n    </tr>\n    <tr>\n      <td>3</td>\n      <td>1.629741</td>\n      <td>1.620422</td>\n      <td>0.518987</td>\n      <td>00:08</td>\n    </tr>\n    <tr>\n      <td>4</td>\n      <td>1.416191</td>\n      <td>1.301309</td>\n      <td>0.544304</td>\n      <td>00:07</td>\n    </tr>\n    <tr>\n      <td>5</td>\n      <td>1.336500</td>\n      <td>2.267261</td>\n      <td>0.360759</td>\n      <td>00:07</td>\n    </tr>\n    <tr>\n      <td>6</td>\n      <td>1.205180</td>\n      <td>1.700374</td>\n      <td>0.506329</td>\n      <td>00:08</td>\n    </tr>\n    <tr>\n      <td>7</td>\n      <td>1.218699</td>\n      <td>2.829433</td>\n      <td>0.405063</td>\n      <td>00:07</td>\n    </tr>\n    <tr>\n      <td>8</td>\n      <td>1.318785</td>\n      <td>5.922305</td>\n      <td>0.196203</td>\n      <td>00:07</td>\n    </tr>\n    <tr>\n      <td>9</td>\n      <td>1.294492</td>\n      <td>3.798304</td>\n      <td>0.341772</td>\n      <td>00:08</td>\n    </tr>\n    <tr>\n      <td>10</td>\n      <td>1.445025</td>\n      <td>3.599916</td>\n      <td>0.373418</td>\n      <td>00:08</td>\n    </tr>\n    <tr>\n      <td>11</td>\n      <td>1.424024</td>\n      <td>1.973935</td>\n      <td>0.462025</td>\n      <td>00:08</td>\n    </tr>\n    <tr>\n      <td>12</td>\n      <td>1.512290</td>\n      <td>1.452838</td>\n      <td>0.575949</td>\n      <td>00:07</td>\n    </tr>\n    <tr>\n      <td>13</td>\n      <td>1.436340</td>\n      <td>1.279757</td>\n      <td>0.607595</td>\n      <td>00:08</td>\n    </tr>\n    <tr>\n      <td>14</td>\n      <td>1.267324</td>\n      <td>1.794003</td>\n      <td>0.525316</td>\n      <td>00:08</td>\n    </tr>\n    <tr>\n      <td>15</td>\n      <td>1.211626</td>\n      <td>3.649307</td>\n      <td>0.462025</td>\n      <td>00:07</td>\n    </tr>\n    <tr>\n      <td>16</td>\n      <td>1.215988</td>\n      <td>1.470540</td>\n      <td>0.487342</td>\n      <td>00:07</td>\n    </tr>\n    <tr>\n      <td>17</td>\n      <td>1.259056</td>\n      <td>5.768481</td>\n      <td>0.234177</td>\n      <td>00:08</td>\n    </tr>\n    <tr>\n      <td>18</td>\n      <td>1.182764</td>\n      <td>1.849364</td>\n      <td>0.556962</td>\n      <td>00:08</td>\n    </tr>\n    <tr>\n      <td>19</td>\n      <td>1.124560</td>\n      <td>1.224258</td>\n      <td>0.601266</td>\n      <td>00:07</td>\n    </tr>\n    <tr>\n      <td>20</td>\n      <td>1.158066</td>\n      <td>1.933360</td>\n      <td>0.512658</td>\n      <td>00:07</td>\n    </tr>\n    <tr>\n      <td>21</td>\n      <td>1.048092</td>\n      <td>2.463149</td>\n      <td>0.500000</td>\n      <td>00:08</td>\n    </tr>\n    <tr>\n      <td>22</td>\n      <td>1.017213</td>\n      <td>1.743063</td>\n      <td>0.531646</td>\n      <td>00:08</td>\n    </tr>\n    <tr>\n      <td>23</td>\n      <td>0.950045</td>\n      <td>1.677632</td>\n      <td>0.544304</td>\n      <td>00:07</td>\n    </tr>\n    <tr>\n      <td>24</td>\n      <td>0.987312</td>\n      <td>1.505154</td>\n      <td>0.544304</td>\n      <td>00:08</td>\n    </tr>\n    <tr>\n      <td>25</td>\n      <td>0.893920</td>\n      <td>1.289003</td>\n      <td>0.645570</td>\n      <td>00:07</td>\n    </tr>\n    <tr>\n      <td>26</td>\n      <td>0.808125</td>\n      <td>2.309251</td>\n      <td>0.518987</td>\n      <td>00:08</td>\n    </tr>\n    <tr>\n      <td>27</td>\n      <td>0.882108</td>\n      <td>1.355729</td>\n      <td>0.607595</td>\n      <td>00:07</td>\n    </tr>\n    <tr>\n      <td>28</td>\n      <td>0.835312</td>\n      <td>1.129791</td>\n      <td>0.658228</td>\n      <td>00:08</td>\n    </tr>\n    <tr>\n      <td>29</td>\n      <td>0.769612</td>\n      <td>1.180702</td>\n      <td>0.664557</td>\n      <td>00:07</td>\n    </tr>\n    <tr>\n      <td>30</td>\n      <td>0.747192</td>\n      <td>1.164884</td>\n      <td>0.632911</td>\n      <td>00:08</td>\n    </tr>\n    <tr>\n      <td>31</td>\n      <td>0.754617</td>\n      <td>1.105469</td>\n      <td>0.664557</td>\n      <td>00:07</td>\n    </tr>\n    <tr>\n      <td>32</td>\n      <td>0.709664</td>\n      <td>1.862707</td>\n      <td>0.487342</td>\n      <td>00:07</td>\n    </tr>\n    <tr>\n      <td>33</td>\n      <td>0.657985</td>\n      <td>0.966918</td>\n      <td>0.740506</td>\n      <td>00:07</td>\n    </tr>\n    <tr>\n      <td>34</td>\n      <td>0.665859</td>\n      <td>1.005073</td>\n      <td>0.658228</td>\n      <td>00:08</td>\n    </tr>\n    <tr>\n      <td>35</td>\n      <td>0.614667</td>\n      <td>0.817986</td>\n      <td>0.734177</td>\n      <td>00:07</td>\n    </tr>\n    <tr>\n      <td>36</td>\n      <td>0.678338</td>\n      <td>1.131553</td>\n      <td>0.689873</td>\n      <td>00:07</td>\n    </tr>\n    <tr>\n      <td>37</td>\n      <td>0.594144</td>\n      <td>1.168384</td>\n      <td>0.683544</td>\n      <td>00:07</td>\n    </tr>\n    <tr>\n      <td>38</td>\n      <td>0.612956</td>\n      <td>1.244173</td>\n      <td>0.632911</td>\n      <td>00:08</td>\n    </tr>\n    <tr>\n      <td>39</td>\n      <td>0.630254</td>\n      <td>1.756824</td>\n      <td>0.537975</td>\n      <td>00:08</td>\n    </tr>\n    <tr>\n      <td>40</td>\n      <td>0.586635</td>\n      <td>1.316879</td>\n      <td>0.658228</td>\n      <td>00:07</td>\n    </tr>\n    <tr>\n      <td>41</td>\n      <td>0.568479</td>\n      <td>0.796832</td>\n      <td>0.791139</td>\n      <td>00:07</td>\n    </tr>\n    <tr>\n      <td>42</td>\n      <td>0.511888</td>\n      <td>1.521780</td>\n      <td>0.569620</td>\n      <td>00:07</td>\n    </tr>\n    <tr>\n      <td>43</td>\n      <td>0.509027</td>\n      <td>0.869431</td>\n      <td>0.746835</td>\n      <td>00:08</td>\n    </tr>\n    <tr>\n      <td>44</td>\n      <td>0.475670</td>\n      <td>1.134697</td>\n      <td>0.715190</td>\n      <td>00:07</td>\n    </tr>\n    <tr>\n      <td>45</td>\n      <td>0.419328</td>\n      <td>0.757105</td>\n      <td>0.753165</td>\n      <td>00:07</td>\n    </tr>\n    <tr>\n      <td>46</td>\n      <td>0.402980</td>\n      <td>0.951578</td>\n      <td>0.721519</td>\n      <td>00:07</td>\n    </tr>\n    <tr>\n      <td>47</td>\n      <td>0.398521</td>\n      <td>0.698316</td>\n      <td>0.791139</td>\n      <td>00:08</td>\n    </tr>\n    <tr>\n      <td>48</td>\n      <td>0.371420</td>\n      <td>0.841528</td>\n      <td>0.740506</td>\n      <td>00:07</td>\n    </tr>\n    <tr>\n      <td>49</td>\n      <td>0.356321</td>\n      <td>0.642938</td>\n      <td>0.784810</td>\n      <td>00:07</td>\n    </tr>\n    <tr>\n      <td>50</td>\n      <td>0.382381</td>\n      <td>0.769765</td>\n      <td>0.778481</td>\n      <td>00:08</td>\n    </tr>\n    <tr>\n      <td>51</td>\n      <td>0.364871</td>\n      <td>0.588200</td>\n      <td>0.829114</td>\n      <td>00:08</td>\n    </tr>\n    <tr>\n      <td>52</td>\n      <td>0.354326</td>\n      <td>0.715281</td>\n      <td>0.803797</td>\n      <td>00:07</td>\n    </tr>\n    <tr>\n      <td>53</td>\n      <td>0.327928</td>\n      <td>1.168882</td>\n      <td>0.715190</td>\n      <td>00:07</td>\n    </tr>\n    <tr>\n      <td>54</td>\n      <td>0.279154</td>\n      <td>0.678590</td>\n      <td>0.841772</td>\n      <td>00:07</td>\n    </tr>\n    <tr>\n      <td>55</td>\n      <td>0.253120</td>\n      <td>0.691557</td>\n      <td>0.829114</td>\n      <td>00:08</td>\n    </tr>\n    <tr>\n      <td>56</td>\n      <td>0.289190</td>\n      <td>0.913399</td>\n      <td>0.797468</td>\n      <td>00:07</td>\n    </tr>\n    <tr>\n      <td>57</td>\n      <td>0.260007</td>\n      <td>0.558432</td>\n      <td>0.860759</td>\n      <td>00:08</td>\n    </tr>\n    <tr>\n      <td>58</td>\n      <td>0.239185</td>\n      <td>0.675721</td>\n      <td>0.822785</td>\n      <td>00:07</td>\n    </tr>\n    <tr>\n      <td>59</td>\n      <td>0.231409</td>\n      <td>0.603278</td>\n      <td>0.835443</td>\n      <td>00:08</td>\n    </tr>\n    <tr>\n      <td>60</td>\n      <td>0.217105</td>\n      <td>0.600946</td>\n      <td>0.886076</td>\n      <td>00:07</td>\n    </tr>\n    <tr>\n      <td>61</td>\n      <td>0.187403</td>\n      <td>0.526149</td>\n      <td>0.835443</td>\n      <td>00:07</td>\n    </tr>\n    <tr>\n      <td>62</td>\n      <td>0.185496</td>\n      <td>0.654093</td>\n      <td>0.829114</td>\n      <td>00:07</td>\n    </tr>\n    <tr>\n      <td>63</td>\n      <td>0.191775</td>\n      <td>0.564004</td>\n      <td>0.835443</td>\n      <td>00:08</td>\n    </tr>\n    <tr>\n      <td>64</td>\n      <td>0.173859</td>\n      <td>0.703252</td>\n      <td>0.867089</td>\n      <td>00:07</td>\n    </tr>\n    <tr>\n      <td>65</td>\n      <td>0.169048</td>\n      <td>0.770437</td>\n      <td>0.803797</td>\n      <td>00:07</td>\n    </tr>\n    <tr>\n      <td>66</td>\n      <td>0.191645</td>\n      <td>0.614558</td>\n      <td>0.848101</td>\n      <td>00:07</td>\n    </tr>\n    <tr>\n      <td>67</td>\n      <td>0.145348</td>\n      <td>0.655221</td>\n      <td>0.803797</td>\n      <td>00:08</td>\n    </tr>\n    <tr>\n      <td>68</td>\n      <td>0.138294</td>\n      <td>0.749588</td>\n      <td>0.810127</td>\n      <td>00:07</td>\n    </tr>\n    <tr>\n      <td>69</td>\n      <td>0.158108</td>\n      <td>0.682409</td>\n      <td>0.841772</td>\n      <td>00:08</td>\n    </tr>\n    <tr>\n      <td>70</td>\n      <td>0.143258</td>\n      <td>0.657438</td>\n      <td>0.835443</td>\n      <td>00:07</td>\n    </tr>\n    <tr>\n      <td>71</td>\n      <td>0.133391</td>\n      <td>0.511641</td>\n      <td>0.886076</td>\n      <td>00:08</td>\n    </tr>\n    <tr>\n      <td>72</td>\n      <td>0.117406</td>\n      <td>0.661972</td>\n      <td>0.867089</td>\n      <td>00:07</td>\n    </tr>\n    <tr>\n      <td>73</td>\n      <td>0.102656</td>\n      <td>0.635603</td>\n      <td>0.860759</td>\n      <td>00:07</td>\n    </tr>\n    <tr>\n      <td>74</td>\n      <td>0.075512</td>\n      <td>0.597036</td>\n      <td>0.860759</td>\n      <td>00:07</td>\n    </tr>\n    <tr>\n      <td>75</td>\n      <td>0.106816</td>\n      <td>0.749162</td>\n      <td>0.867089</td>\n      <td>00:07</td>\n    </tr>\n    <tr>\n      <td>76</td>\n      <td>0.098543</td>\n      <td>0.567918</td>\n      <td>0.854430</td>\n      <td>00:08</td>\n    </tr>\n    <tr>\n      <td>77</td>\n      <td>0.087274</td>\n      <td>0.637831</td>\n      <td>0.873418</td>\n      <td>00:08</td>\n    </tr>\n    <tr>\n      <td>78</td>\n      <td>0.071866</td>\n      <td>0.534886</td>\n      <td>0.879747</td>\n      <td>00:07</td>\n    </tr>\n    <tr>\n      <td>79</td>\n      <td>0.073671</td>\n      <td>0.604278</td>\n      <td>0.879747</td>\n      <td>00:07</td>\n    </tr>\n    <tr>\n      <td>80</td>\n      <td>0.062861</td>\n      <td>0.545084</td>\n      <td>0.898734</td>\n      <td>00:08</td>\n    </tr>\n    <tr>\n      <td>81</td>\n      <td>0.062692</td>\n      <td>0.565589</td>\n      <td>0.886076</td>\n      <td>00:07</td>\n    </tr>\n    <tr>\n      <td>82</td>\n      <td>0.051556</td>\n      <td>0.530664</td>\n      <td>0.898734</td>\n      <td>00:07</td>\n    </tr>\n    <tr>\n      <td>83</td>\n      <td>0.049515</td>\n      <td>0.605846</td>\n      <td>0.860759</td>\n      <td>00:08</td>\n    </tr>\n    <tr>\n      <td>84</td>\n      <td>0.050004</td>\n      <td>0.545490</td>\n      <td>0.886076</td>\n      <td>00:08</td>\n    </tr>\n    <tr>\n      <td>85</td>\n      <td>0.052618</td>\n      <td>0.574203</td>\n      <td>0.898734</td>\n      <td>00:08</td>\n    </tr>\n    <tr>\n      <td>86</td>\n      <td>0.043985</td>\n      <td>0.566720</td>\n      <td>0.905063</td>\n      <td>00:07</td>\n    </tr>\n    <tr>\n      <td>87</td>\n      <td>0.034268</td>\n      <td>0.609471</td>\n      <td>0.892405</td>\n      <td>00:07</td>\n    </tr>\n    <tr>\n      <td>88</td>\n      <td>0.039026</td>\n      <td>0.619599</td>\n      <td>0.873418</td>\n      <td>00:08</td>\n    </tr>\n    <tr>\n      <td>89</td>\n      <td>0.036079</td>\n      <td>0.582527</td>\n      <td>0.905063</td>\n      <td>00:07</td>\n    </tr>\n    <tr>\n      <td>90</td>\n      <td>0.028391</td>\n      <td>0.569069</td>\n      <td>0.898734</td>\n      <td>00:07</td>\n    </tr>\n    <tr>\n      <td>91</td>\n      <td>0.022843</td>\n      <td>0.568543</td>\n      <td>0.892405</td>\n      <td>00:07</td>\n    </tr>\n    <tr>\n      <td>92</td>\n      <td>0.031682</td>\n      <td>0.554988</td>\n      <td>0.898734</td>\n      <td>00:08</td>\n    </tr>\n    <tr>\n      <td>93</td>\n      <td>0.025314</td>\n      <td>0.546724</td>\n      <td>0.892405</td>\n      <td>00:07</td>\n    </tr>\n    <tr>\n      <td>94</td>\n      <td>0.033848</td>\n      <td>0.554380</td>\n      <td>0.898734</td>\n      <td>00:07</td>\n    </tr>\n    <tr>\n      <td>95</td>\n      <td>0.035248</td>\n      <td>0.556496</td>\n      <td>0.898734</td>\n      <td>00:07</td>\n    </tr>\n    <tr>\n      <td>96</td>\n      <td>0.029403</td>\n      <td>0.555992</td>\n      <td>0.892405</td>\n      <td>00:08</td>\n    </tr>\n    <tr>\n      <td>97</td>\n      <td>0.023151</td>\n      <td>0.564923</td>\n      <td>0.898734</td>\n      <td>00:07</td>\n    </tr>\n    <tr>\n      <td>98</td>\n      <td>0.020163</td>\n      <td>0.560581</td>\n      <td>0.892405</td>\n      <td>00:08</td>\n    </tr>\n    <tr>\n      <td>99</td>\n      <td>0.024572</td>\n      <td>0.553399</td>\n      <td>0.898734</td>\n      <td>00:07</td>\n    </tr>\n  </tbody>\n</table>"
          },
          "metadata": {}
        }
      ]
    }
  ]
}